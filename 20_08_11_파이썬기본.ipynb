{
  "nbformat": 4,
  "nbformat_minor": 0,
  "metadata": {
    "colab": {
      "name": "20-08-11_파이썬기본.ipynb",
      "provenance": [],
      "authorship_tag": "ABX9TyP8Aeo7cHBdcpfuC1W3VX4h",
      "include_colab_link": true
    },
    "kernelspec": {
      "name": "python3",
      "display_name": "Python 3"
    }
  },
  "cells": [
    {
      "cell_type": "markdown",
      "metadata": {
        "id": "view-in-github",
        "colab_type": "text"
      },
      "source": [
        "<a href=\"https://colab.research.google.com/github/dufma9385/Python_machinelearning/blob/master/20_08_11_%ED%8C%8C%EC%9D%B4%EC%8D%AC%EA%B8%B0%EB%B3%B8.ipynb\" target=\"_parent\"><img src=\"https://colab.research.google.com/assets/colab-badge.svg\" alt=\"Open In Colab\"/></a>"
      ]
    },
    {
      "cell_type": "code",
      "metadata": {
        "id": "ZvuqKTH52vpN",
        "colab_type": "code",
        "colab": {}
      },
      "source": [
        "# 리스트(list) = 순서지원, 정렬지원, 추가, 삭제, 수정, 검색, 중복저장가능\n",
        "# 튜플(Tuple) = 조회만 가능 변경불가(읽기 전용)\n",
        "# 셋(set) = 순서없고 중복 혀용하지 않음\n",
        "# 사전(dictionary) = key-value 형태로 데이터 저장, 추가, 삭제, 수정 키를 알면 빠른 검색 가능"
      ],
      "execution_count": null,
      "outputs": []
    },
    {
      "cell_type": "code",
      "metadata": {
        "id": "ATRcrCx_4ho_",
        "colab_type": "code",
        "colab": {
          "base_uri": "https://localhost:8080/",
          "height": 34
        },
        "outputId": "a230b537-fa55-4300-c422-d85cde2a5f86"
      },
      "source": [
        "# 리스트\n",
        "scores = [] #빈 리스트\n",
        "scores.append(80)\n",
        "scores.append(90)\n",
        "scores.append(70)\n",
        "scores #내용출력\n",
        "\n",
        "# 삭제하기 remove(값) pop(인덱스)\n",
        "# scores.remove(90) #값 90을 찾아서 삭제, 없으면 value error\n",
        "# scores.remove(70)\n",
        "scores"
      ],
      "execution_count": null,
      "outputs": [
        {
          "output_type": "execute_result",
          "data": {
            "text/plain": [
              "[80, 90, 70]"
            ]
          },
          "metadata": {
            "tags": []
          },
          "execution_count": 8
        }
      ]
    },
    {
      "cell_type": "code",
      "metadata": {
        "id": "Ocqo8VKA7ejz",
        "colab_type": "code",
        "colab": {
          "base_uri": "https://localhost:8080/",
          "height": 34
        },
        "outputId": "7c22024d-d74a-4ee6-9de1-faf98df29624"
      },
      "source": [
        "#리스트 확장하기   리스트끼리 연결하기\n",
        "scores\n",
        "scores2 = [80, 70, 70]\n",
        "scores3 = scores + scores2 #연결된 새로운 리스트 생성\n",
        "# scores3\n",
        "#기존리스트에 확장\n",
        "scores.extend(scores2)\n",
        "scores"
      ],
      "execution_count": null,
      "outputs": [
        {
          "output_type": "execute_result",
          "data": {
            "text/plain": [
              "[80, 90, 70, 80, 70, 70]"
            ]
          },
          "metadata": {
            "tags": []
          },
          "execution_count": 9
        }
      ]
    },
    {
      "cell_type": "code",
      "metadata": {
        "id": "BX8oOZLZ8IEC",
        "colab_type": "code",
        "colab": {
          "base_uri": "https://localhost:8080/",
          "height": 34
        },
        "outputId": "c5dca0a5-0fbd-4000-adb8-51093b577028"
      },
      "source": [
        "scores[-3:-6:-1]"
      ],
      "execution_count": null,
      "outputs": [
        {
          "output_type": "execute_result",
          "data": {
            "text/plain": [
              "[80, 70, 90]"
            ]
          },
          "metadata": {
            "tags": []
          },
          "execution_count": 11
        }
      ]
    },
    {
      "cell_type": "code",
      "metadata": {
        "id": "dOLZtifI9iZm",
        "colab_type": "code",
        "colab": {
          "base_uri": "https://localhost:8080/",
          "height": 34
        },
        "outputId": "9b976a55-9e93-4577-be88-20591e8b5fb6"
      },
      "source": [
        "scores.sort(reverse=True) # 내림차순 False는 오름차순\n",
        "scores"
      ],
      "execution_count": null,
      "outputs": [
        {
          "output_type": "execute_result",
          "data": {
            "text/plain": [
              "[90, 80, 80, 70, 70, 70]"
            ]
          },
          "metadata": {
            "tags": []
          },
          "execution_count": 12
        }
      ]
    },
    {
      "cell_type": "code",
      "metadata": {
        "id": "R6EQS4zG_MPc",
        "colab_type": "code",
        "colab": {
          "base_uri": "https://localhost:8080/",
          "height": 34
        },
        "outputId": "667693ad-922a-4115-a2ea-8a9d32cad189"
      },
      "source": [
        "scores2 = [[1,2,3], [4,5,6], [7,8,9]]\n",
        "scores2[1][1]"
      ],
      "execution_count": null,
      "outputs": [
        {
          "output_type": "execute_result",
          "data": {
            "text/plain": [
              "5"
            ]
          },
          "metadata": {
            "tags": []
          },
          "execution_count": 15
        }
      ]
    },
    {
      "cell_type": "code",
      "metadata": {
        "id": "STQCgnysEfM9",
        "colab_type": "code",
        "colab": {
          "base_uri": "https://localhost:8080/",
          "height": 34
        },
        "outputId": "aec965b0-d67d-402e-d19f-23f1532f0832"
      },
      "source": [
        "score = [['math', 89], ['english']]\n",
        "score[1].append(85)\n",
        "score"
      ],
      "execution_count": null,
      "outputs": [
        {
          "output_type": "execute_result",
          "data": {
            "text/plain": [
              "[['math', 89], ['english', 85]]"
            ]
          },
          "metadata": {
            "tags": []
          },
          "execution_count": 17
        }
      ]
    },
    {
      "cell_type": "code",
      "metadata": {
        "id": "SLEvEnLZHgDx",
        "colab_type": "code",
        "colab": {
          "base_uri": "https://localhost:8080/",
          "height": 34
        },
        "outputId": "d5f8279c-446a-48f9-b0a9-f72523b80079"
      },
      "source": [
        "t = 1,3,5 # Tuple\n",
        "range(1,5) #1<= x < 5\n",
        "list(range(1,5))"
      ],
      "execution_count": null,
      "outputs": [
        {
          "output_type": "execute_result",
          "data": {
            "text/plain": [
              "[1, 2, 3, 4]"
            ]
          },
          "metadata": {
            "tags": []
          },
          "execution_count": 18
        }
      ]
    },
    {
      "cell_type": "code",
      "metadata": {
        "id": "y8kI7lUNK7ni",
        "colab_type": "code",
        "colab": {
          "base_uri": "https://localhost:8080/",
          "height": 34
        },
        "outputId": "183eb2e1-19a2-403b-d21b-99c2e2e55726"
      },
      "source": [
        "lottoSet = set()\n",
        "lottoSet.add(70)\n",
        "lottoSet.add(80)\n",
        "lottoSet.add(70)\n",
        "lottoSet\n",
        "s1 = {80,70,80}\n",
        "s1"
      ],
      "execution_count": null,
      "outputs": [
        {
          "output_type": "execute_result",
          "data": {
            "text/plain": [
              "{70, 80}"
            ]
          },
          "metadata": {
            "tags": []
          },
          "execution_count": 24
        }
      ]
    },
    {
      "cell_type": "code",
      "metadata": {
        "id": "I8__S0XnLROu",
        "colab_type": "code",
        "colab": {
          "base_uri": "https://localhost:8080/",
          "height": 34
        },
        "outputId": "1f97ad63-966e-4c68-9bc2-afa88e55d9db"
      },
      "source": [
        "import random\n",
        "lottos = set()\n",
        "lottos.add( random.randint(1,45) ) #1<= x <=45 의 난수\n",
        "lottos.add(random.randint(1,45))\n",
        "lottos.add(random.randint(1,45))\n",
        "lottos.add(random.randint(1,45))\n",
        "lottos.add(random.randint(1,45))\n",
        "lottos #중복값이 나오면 알아서 배제시킴"
      ],
      "execution_count": null,
      "outputs": [
        {
          "output_type": "execute_result",
          "data": {
            "text/plain": [
              "{8, 11, 14, 26, 28}"
            ]
          },
          "metadata": {
            "tags": []
          },
          "execution_count": 29
        }
      ]
    },
    {
      "cell_type": "code",
      "metadata": {
        "id": "XA-XcBWVNfvl",
        "colab_type": "code",
        "colab": {
          "base_uri": "https://localhost:8080/",
          "height": 34
        },
        "outputId": "b9ccc665-c5b7-4c6a-8c3d-a17dfaf6b9b7"
      },
      "source": [
        "nums = {1,7,3,5}\n",
        "numslist = list(nums)\n",
        "numslist.reverse()\n",
        "set(numslist)"
      ],
      "execution_count": null,
      "outputs": [
        {
          "output_type": "execute_result",
          "data": {
            "text/plain": [
              "{1, 3, 5, 7}"
            ]
          },
          "metadata": {
            "tags": []
          },
          "execution_count": 31
        }
      ]
    },
    {
      "cell_type": "code",
      "metadata": {
        "id": "wvxgBvQSYqi7",
        "colab_type": "code",
        "colab": {}
      },
      "source": [
        "mems = [\"\"]\n",
        "mems.keys()\n",
        "mems.values()\n",
        "mems.items()"
      ],
      "execution_count": null,
      "outputs": []
    },
    {
      "cell_type": "code",
      "metadata": {
        "id": "OEhGLqz2aAIv",
        "colab_type": "code",
        "colab": {
          "base_uri": "https://localhost:8080/",
          "height": 34
        },
        "outputId": "c7eb991a-0ef4-4ef3-86b8-eac773e85019"
      },
      "source": [
        "s=\"kim\"\n",
        "len(s)\n",
        "names=['kim','lee']\n",
        "len(names)\n",
        "lottos={10,20,30,20}\n",
        "len(lottos)\n",
        "mems={'kim':1000, 'lee':100}\n",
        "len(mems)"
      ],
      "execution_count": null,
      "outputs": [
        {
          "output_type": "execute_result",
          "data": {
            "text/plain": [
              "2"
            ]
          },
          "metadata": {
            "tags": []
          },
          "execution_count": 32
        }
      ]
    },
    {
      "cell_type": "code",
      "metadata": {
        "id": "bfpdNUKuapii",
        "colab_type": "code",
        "colab": {
          "base_uri": "https://localhost:8080/",
          "height": 70
        },
        "outputId": "1af4b463-0af2-458b-85cd-17afd9e35ddb"
      },
      "source": [
        "gender = input('성별입력: MALE or FEMALE \\n')\n",
        "gender = gender.upper()\n",
        "if gender == 'MALE':\n",
        "  print(\"남성입니다\")\n",
        "elif gender == 'FEMALE':\n",
        "  print(\"여성입니다\")\n",
        "else:\n",
        "  print('잘못입력했어')"
      ],
      "execution_count": null,
      "outputs": [
        {
          "output_type": "stream",
          "text": [
            "성별입력: MALE or FEMALE \n",
            "ㄹ\n",
            "잘못입력했어\n"
          ],
          "name": "stdout"
        }
      ]
    },
    {
      "cell_type": "code",
      "metadata": {
        "id": "khYMvakGeEaP",
        "colab_type": "code",
        "colab": {
          "base_uri": "https://localhost:8080/",
          "height": 87
        },
        "outputId": "d2ece922-3949-4b89-e612-f735b21e72d6"
      },
      "source": [
        "# 비만도 (몸무게 + 100 - 키)\n",
        "# info = [155, 60] #키 - 몸무게\n",
        "# 비만수치 = info2[0] - info2[1]\n",
        "# if 비만수치 > 0:\n",
        "#   ('비만수치는' , 비만수치, '입니다')\n",
        "#   print(\"비만입니다\")\n",
        "\n",
        "he = int(input('키 입력'))\n",
        "we = int(input('몸무게 입력'))\n",
        "비만수치 = we+100-he\n",
        "if 비만수치 > 0:\n",
        "  print('비만수치는' , 비만수치, '입니다')\n",
        "  print(\"비만입니다\")\n",
        "else:\n",
        "  print('비만이 아닙니다')"
      ],
      "execution_count": null,
      "outputs": [
        {
          "output_type": "stream",
          "text": [
            "키 입력170\n",
            "몸무게 입력100\n",
            "비만수치는 30 입니다\n",
            "비만입니다\n"
          ],
          "name": "stdout"
        }
      ]
    },
    {
      "cell_type": "code",
      "metadata": {
        "id": "E580wVB8B5U2",
        "colab_type": "code",
        "colab": {
          "base_uri": "https://localhost:8080/",
          "height": 105
        },
        "outputId": "6f5d71b4-6692-4abc-89af-574ec13fda84"
      },
      "source": [
        "result = [90,35,68,44,81]\n",
        "for i in range(0,5):\n",
        "  if result[i]>60:\n",
        "    print(i+1,'번 학생은 합격입니다')\n",
        "  else:\n",
        "   print(i+1,'번 학생은 불합격입니다')"
      ],
      "execution_count": null,
      "outputs": [
        {
          "output_type": "stream",
          "text": [
            "1 번 학생은 합격입니다\n",
            "2 번 학생은 불합격입니다\n",
            "3 번 학생은 합격입니다\n",
            "4 번 학생은 불합격입니다\n",
            "5 번 학생은 합격입니다\n"
          ],
          "name": "stdout"
        }
      ]
    },
    {
      "cell_type": "code",
      "metadata": {
        "id": "YuuTBR6tKzvR",
        "colab_type": "code",
        "colab": {
          "base_uri": "https://localhost:8080/",
          "height": 298
        },
        "outputId": "94568002-b36a-4e3c-803b-9ceddc819c83"
      },
      "source": [
        "# 컴퓨터가 1-100사이의 난수 설정\n",
        "# 사용자가 임의의 숫자 입력 -> 높이세요, 낮추세요\n",
        "import random\n",
        "com_num = random.randint(1,100)\n",
        "\n",
        "for i in range(1,11): #최대 10번만 시도\n",
        "  user_num = int(input('1-100사이 숫자 입력 >> '))\n",
        "  if user_num == com_num:\n",
        "    print('정답입니다')\n",
        "    break\n",
        "  elif user_num < com_num:\n",
        "    print('높이세요')\n",
        "  else:\n",
        "    print('낮추세요')\n",
        "  "
      ],
      "execution_count": null,
      "outputs": [
        {
          "output_type": "stream",
          "text": [
            "1-100사이 숫자 입력 >> 10\n",
            "높이세요\n",
            "1-100사이 숫자 입력 >> 40\n",
            "높이세요\n",
            "1-100사이 숫자 입력 >> 60\n",
            "낮추세요\n",
            "1-100사이 숫자 입력 >> 50\n",
            "높이세요\n",
            "1-100사이 숫자 입력 >> 55\n",
            "높이세요\n",
            "1-100사이 숫자 입력 >> 56\n",
            "높이세요\n",
            "1-100사이 숫자 입력 >> 58\n",
            "낮추세요\n",
            "1-100사이 숫자 입력 >> 57\n",
            "정답입니다\n"
          ],
          "name": "stdout"
        }
      ]
    }
  ]
}