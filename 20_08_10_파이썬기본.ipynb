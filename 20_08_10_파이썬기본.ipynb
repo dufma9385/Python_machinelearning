{
  "nbformat": 4,
  "nbformat_minor": 0,
  "metadata": {
    "colab": {
      "name": "20.08.10_파이썬기본.ipynb",
      "provenance": [],
      "authorship_tag": "ABX9TyNHzufSfyBVVwroiWBaI0TL",
      "include_colab_link": true
    },
    "kernelspec": {
      "name": "python3",
      "display_name": "Python 3"
    }
  },
  "cells": [
    {
      "cell_type": "markdown",
      "metadata": {
        "id": "view-in-github",
        "colab_type": "text"
      },
      "source": [
        "<a href=\"https://colab.research.google.com/github/dufma9385/Python_machinelearning/blob/master/20_08_10_%ED%8C%8C%EC%9D%B4%EC%8D%AC%EA%B8%B0%EB%B3%B8.ipynb\" target=\"_parent\"><img src=\"https://colab.research.google.com/assets/colab-badge.svg\" alt=\"Open In Colab\"/></a>"
      ]
    },
    {
      "cell_type": "code",
      "metadata": {
        "id": "2VnuN_VA99-m",
        "colab_type": "code",
        "colab": {
          "base_uri": "https://localhost:8080/",
          "height": 34
        },
        "outputId": "d0056b5d-6507-402c-bc56-e5087b124990"
      },
      "source": [
        "#파이썬은 인터프리티 언어 -> 컴파일 과정이 없음\n",
        "#컴파일 -> 소스 -> 기계어로 변환\n",
        "#int a = 100 # c, c++, java 3세대 언어들의 구조\n",
        "a = 100 # 동적타입\n",
        "type(a)"
      ],
      "execution_count": null,
      "outputs": [
        {
          "output_type": "execute_result",
          "data": {
            "text/plain": [
              "int"
            ]
          },
          "metadata": {
            "tags": []
          },
          "execution_count": 4
        }
      ]
    },
    {
      "cell_type": "code",
      "metadata": {
        "id": "VIa0dpjz_IRA",
        "colab_type": "code",
        "colab": {
          "base_uri": "https://localhost:8080/",
          "height": 34
        },
        "outputId": "dd8e95c7-52f1-46be-fe15-e15826099fa9"
      },
      "source": [
        "a = '민경짱'\n",
        "type(a)"
      ],
      "execution_count": 5,
      "outputs": [
        {
          "output_type": "execute_result",
          "data": {
            "text/plain": [
              "str"
            ]
          },
          "metadata": {
            "tags": []
          },
          "execution_count": 5
        }
      ]
    },
    {
      "cell_type": "code",
      "metadata": {
        "id": "6h9menee_Mhn",
        "colab_type": "code",
        "colab": {
          "base_uri": "https://localhost:8080/",
          "height": 34
        },
        "outputId": "5dfb6093-9ea0-4cab-aa65-c6d4e5e0c795"
      },
      "source": [
        "b = \"민경짱\"\n",
        "type(b)"
      ],
      "execution_count": null,
      "outputs": [
        {
          "output_type": "execute_result",
          "data": {
            "text/plain": [
              "str"
            ]
          },
          "metadata": {
            "tags": []
          },
          "execution_count": 7
        }
      ]
    },
    {
      "cell_type": "code",
      "metadata": {
        "id": "RsYjgK57_Uem",
        "colab_type": "code",
        "colab": {
          "base_uri": "https://localhost:8080/",
          "height": 34
        },
        "outputId": "ad4ae5ad-aafd-4362-eb56-1a56132b6be7"
      },
      "source": [
        "myname = \"민경\"\n",
        "myyear = 25\n",
        "print(myname)"
      ],
      "execution_count": null,
      "outputs": [
        {
          "output_type": "stream",
          "text": [
            "민경\n"
          ],
          "name": "stdout"
        }
      ]
    },
    {
      "cell_type": "markdown",
      "metadata": {
        "id": "fOFVDw5ArlMd",
        "colab_type": "text"
      },
      "source": [
        ""
      ]
    },
    {
      "cell_type": "code",
      "metadata": {
        "id": "HunX55DVtTGa",
        "colab_type": "code",
        "colab": {}
      },
      "source": [
        ""
      ],
      "execution_count": null,
      "outputs": []
    },
    {
      "cell_type": "code",
      "metadata": {
        "id": "3A9bhyE6_fYs",
        "colab_type": "code",
        "colab": {
          "base_uri": "https://localhost:8080/",
          "height": 34
        },
        "outputId": "f31a316d-3afd-4cdb-b987-66a217d808e8"
      },
      "source": [
        "#시험점수\n",
        "score = 0\n",
        "bool(score)\n",
        "score = None\n",
        "bool(score)"
      ],
      "execution_count": null,
      "outputs": [
        {
          "output_type": "execute_result",
          "data": {
            "text/plain": [
              "False"
            ]
          },
          "metadata": {
            "tags": []
          },
          "execution_count": 12
        }
      ]
    },
    {
      "cell_type": "code",
      "metadata": {
        "id": "ioSPYtb1MH9h",
        "colab_type": "code",
        "colab": {
          "base_uri": "https://localhost:8080/",
          "height": 34
        },
        "outputId": "7b116c41-8c30-4125-963f-0575d53ff0cc"
      },
      "source": [
        "s = \"Hello Python\"\n",
        "s[0], s[1], s[5]"
      ],
      "execution_count": null,
      "outputs": [
        {
          "output_type": "execute_result",
          "data": {
            "text/plain": [
              "('H', 'e', ' ')"
            ]
          },
          "metadata": {
            "tags": []
          },
          "execution_count": 16
        }
      ]
    },
    {
      "cell_type": "code",
      "metadata": {
        "id": "t9PmJAPcyRvK",
        "colab_type": "code",
        "colab": {
          "base_uri": "https://localhost:8080/",
          "height": 34
        },
        "outputId": "a667e174-ea57-4e8e-8b99-db5aed51b7d5"
      },
      "source": [
        "import time\n",
        "now=time.localtime()\n",
        "now.tm_year, now.tm_mon"
      ],
      "execution_count": null,
      "outputs": [
        {
          "output_type": "execute_result",
          "data": {
            "text/plain": [
              "(2020, 8)"
            ]
          },
          "metadata": {
            "tags": []
          },
          "execution_count": 18
        }
      ]
    },
    {
      "cell_type": "code",
      "metadata": {
        "id": "nyU9n_jL5RS5",
        "colab_type": "code",
        "colab": {
          "base_uri": "https://localhost:8080/",
          "height": 34
        },
        "outputId": "7b06c9c4-41b7-4557-f6bd-b25ad0d1b48d"
      },
      "source": [
        "aa =\"A\"\n",
        "bb = \"B\"\n",
        "aa > bb"
      ],
      "execution_count": null,
      "outputs": [
        {
          "output_type": "execute_result",
          "data": {
            "text/plain": [
              "False"
            ]
          },
          "metadata": {
            "tags": []
          },
          "execution_count": 21
        }
      ]
    },
    {
      "cell_type": "code",
      "metadata": {
        "id": "kAuNcX_I7VbA",
        "colab_type": "code",
        "colab": {}
      },
      "source": [
        "#로또번호\n",
        "import random\n",
        "# random.randint(1,3) #이상, 이하\n",
        "# random.randint(1,45)\n",
        "\n",
        "for i in range (6) :\n",
        "  random.randint(1,45)"
      ],
      "execution_count": null,
      "outputs": []
    },
    {
      "cell_type": "code",
      "metadata": {
        "id": "7TQVlsq1ODwZ",
        "colab_type": "code",
        "colab": {
          "base_uri": "https://localhost:8080/",
          "height": 34
        },
        "outputId": "aff80df5-0cea-43b4-cd6a-a9eff702ed86"
      },
      "source": [
        "list = [1,3,5,4,2]\n",
        "list[-1::-1]\n",
        "list2= ['Python', 'is', 'too', 'interesting']\n",
        "# list3 = list2[0]+\" \" + list2[1]+\" \" + list2[2]+\" \" + list2[3]\n",
        "list3 = \" \".join(list2)\n",
        "print(list3)"
      ],
      "execution_count": null,
      "outputs": [
        {
          "output_type": "stream",
          "text": [
            "Python is too interesting\n"
          ],
          "name": "stdout"
        }
      ]
    },
    {
      "cell_type": "code",
      "metadata": {
        "id": "vOXfkHF0TduW",
        "colab_type": "code",
        "colab": {
          "base_uri": "https://localhost:8080/",
          "height": 34
        },
        "outputId": "6f5ee5b5-914f-4329-935d-84ead79e3bf4"
      },
      "source": [
        "t = (1,3,5)\n",
        "t[0]\n",
        "\n",
        "t = 2,4,6\n",
        "type(t)\n",
        "t2 = (8, )\n",
        "type(t2)\n",
        "t3 = t + t2\n",
        "t3"
      ],
      "execution_count": null,
      "outputs": [
        {
          "output_type": "execute_result",
          "data": {
            "text/plain": [
              "(2, 4, 6, 8)"
            ]
          },
          "metadata": {
            "tags": []
          },
          "execution_count": 58
        }
      ]
    },
    {
      "cell_type": "code",
      "metadata": {
        "id": "7Efj-1BNU0co",
        "colab_type": "code",
        "colab": {}
      },
      "source": [
        "nums = list( range(1,11))\n",
        "5 in nums"
      ],
      "execution_count": null,
      "outputs": []
    }
  ]
}