{
  "nbformat": 4,
  "nbformat_minor": 0,
  "metadata": {
    "colab": {
      "name": "python_조건문, 반복문",
      "provenance": [],
      "collapsed_sections": [],
      "include_colab_link": true
    },
    "kernelspec": {
      "display_name": "Python 3",
      "language": "python",
      "name": "python3"
    },
    "language_info": {
      "codemirror_mode": {
        "name": "ipython",
        "version": 3
      },
      "file_extension": ".py",
      "mimetype": "text/x-python",
      "name": "python",
      "nbconvert_exporter": "python",
      "pygments_lexer": "ipython3",
      "version": "3.7.6"
    }
  },
  "cells": [
    {
      "cell_type": "markdown",
      "metadata": {
        "id": "view-in-github",
        "colab_type": "text"
      },
      "source": [
        "<a href=\"https://colab.research.google.com/github/dufma9385/Python_machinelearning/blob/master/python_%EC%A1%B0%EA%B1%B4%EB%AC%B8%2C_%EB%B0%98%EB%B3%B5%EB%AC%B8.ipynb\" target=\"_parent\"><img src=\"https://colab.research.google.com/assets/colab-badge.svg\" alt=\"Open In Colab\"/></a>"
      ]
    },
    {
      "cell_type": "code",
      "metadata": {
        "id": "klCIvwGmOy6j",
        "colab_type": "code",
        "colab": {}
      },
      "source": [
        "# statement(문)\n",
        "# 1) simple statement\n",
        "#    assignment (대입문): a = 10\n",
        "#    return, break, continue, pass\n",
        "#    expression : 한 개의 객체로 간주됨(만들어짐, 반환)\n",
        "#    콜론(:) 뒤에 바로 사용 가능, 콤마(,)를 사용하여 나열 가능\n",
        "# 2) compound statement\n",
        "#    def, class, with, try, if, for, while : ':' 을 포함   header : body\n",
        "#    콜론(:) 뒤에서 줄바꿈 한뒤, 들여쓰기해서 사용해야 함\n",
        "\n",
        "\n",
        "# expression(식)\n",
        "# a : 이름\n",
        "# 10 : 상수\n",
        "# subscription, slicing 및 연산자들 (산술연산, 비교연산, 논리연산, 비트연산 ....)\n",
        "# is, is not, in, not in \n",
        "# 함수식(function expression) (lambda )\n",
        "# 조건식(conditional expression) ( \"A\" if condition else \"B\" )\n",
        "# 함수 호출(function call)식  : print(A)\n",
        "# comprehension expression : list, set, dict, GE(generator expression) - iterator 를 생성 \n"
      ],
      "execution_count": null,
      "outputs": []
    },
    {
      "cell_type": "markdown",
      "metadata": {
        "colab_type": "text",
        "id": "2LLUr4CBSRKR"
      },
      "source": [
        "## 1.조건문 (P62)\n",
        "    - if\n",
        "    - if-else\n",
        "    - if-elif-else"
      ]
    },
    {
      "cell_type": "markdown",
      "metadata": {
        "id": "nF3k16hjvmpl",
        "colab_type": "text"
      },
      "source": [
        "### if ~ else 사용 (P62)"
      ]
    },
    {
      "cell_type": "code",
      "metadata": {
        "colab_type": "code",
        "id": "x6c9eA7ZSRKR",
        "colab": {
          "base_uri": "https://localhost:8080/",
          "height": 52
        },
        "outputId": "1877e7a7-1a3e-4673-df02-3c87a0883e55"
      },
      "source": [
        "gender = input(\"성별을 입력하세요. MALE or FEMALE: \")\n",
        "\n",
        "if gender == \"MALE\" :\n",
        "    print(\"남성입니다.\")\n",
        "else:\n",
        "    print(\"여성입니다.\")\n"
      ],
      "execution_count": null,
      "outputs": [
        {
          "output_type": "stream",
          "text": [
            "성별을 입력하세요. MALE or FEMALE: FEMALE\n",
            "여성입니다.\n"
          ],
          "name": "stdout"
        }
      ]
    },
    {
      "cell_type": "code",
      "metadata": {
        "id": "3HFgx0E_bjkh",
        "colab_type": "code",
        "colab": {
          "base_uri": "https://localhost:8080/",
          "height": 52
        },
        "outputId": "8df2c2f1-1beb-4a00-f323-bede60271411"
      },
      "source": [
        "gender = input(\"성별을 입력하세요. MALE or FEMALE: \")\n",
        "print(f'{\"남성\" if gender == \"MALE\" else \"여성\"}입니다')"
      ],
      "execution_count": null,
      "outputs": [
        {
          "output_type": "stream",
          "text": [
            "성별을 입력하세요. MALE or FEMALE: FEMALE\n",
            "여성입니다\n"
          ],
          "name": "stdout"
        }
      ]
    },
    {
      "cell_type": "code",
      "metadata": {
        "id": "ZE5WqPN1b5mH",
        "colab_type": "code",
        "colab": {
          "base_uri": "https://localhost:8080/",
          "height": 52
        },
        "outputId": "352a53d7-bad8-47f0-b45e-b53aa834d771"
      },
      "source": [
        "print(f'{\"남성\" if input(\"성별을 입력하세요. MALE or FEMALE: \") == \"MALE\" else \"여성\"}입니다')"
      ],
      "execution_count": null,
      "outputs": [
        {
          "output_type": "stream",
          "text": [
            "성별을 입력하세요. MALE or FEMALE: MALE\n",
            "남성입니다\n"
          ],
          "name": "stdout"
        }
      ]
    },
    {
      "cell_type": "code",
      "metadata": {
        "id": "G2bsaLeORfy0",
        "colab_type": "code",
        "colab": {
          "base_uri": "https://localhost:8080/",
          "height": 34
        },
        "outputId": "5c5fd44b-c1cc-4221-8158-e4a4c61599e1"
      },
      "source": [
        "a = '891102-4123412'\n",
        "# 여성 : 2, 4\n",
        "# 남성 : 1, 3\n",
        "\n",
        "#if a[-7] == '1' or a[-7] == '3' :\n",
        "#if a[7] == \"1\" or a[7] == \"3\":\n",
        "if a[7] in ['1', '3'] :\n",
        "    print(\"남성입니다.\")\n",
        "else:\n",
        "    print(\"여성입니다.\")\n"
      ],
      "execution_count": null,
      "outputs": [
        {
          "output_type": "stream",
          "text": [
            "여성입니다.\n"
          ],
          "name": "stdout"
        }
      ]
    },
    {
      "cell_type": "code",
      "metadata": {
        "id": "HrWkmJkhv17P",
        "colab_type": "code",
        "colab": {
          "base_uri": "https://localhost:8080/",
          "height": 52
        },
        "outputId": "c6f1a935-048a-4edd-a8ba-03b56a2279ac"
      },
      "source": [
        "money = 1000\n",
        "if money:\n",
        "    print(\"bus\")\n",
        "    print(\"타고\")"
      ],
      "execution_count": null,
      "outputs": [
        {
          "output_type": "stream",
          "text": [
            "bus\n",
            "타고\n"
          ],
          "name": "stdout"
        }
      ]
    },
    {
      "cell_type": "code",
      "metadata": {
        "id": "XvADalKHTdvS",
        "colab_type": "code",
        "colab": {
          "base_uri": "https://localhost:8080/",
          "height": 52
        },
        "outputId": "8d102dd2-b80d-415e-d6ae-6ed62e0535ff"
      },
      "source": [
        "money = 1000\n",
        "if money: print(\"bus\"), print(\"타고\")"
      ],
      "execution_count": null,
      "outputs": [
        {
          "output_type": "stream",
          "text": [
            "bus\n",
            "타고\n"
          ],
          "name": "stdout"
        }
      ]
    },
    {
      "cell_type": "markdown",
      "metadata": {
        "colab_type": "text",
        "id": "Ek-_kaxm7EqN"
      },
      "source": [
        "### 01 if문 연습문제 1 (비만도구하기)  (P64)\n",
        "- 몸무게 + 100 – 키를 비만 수치 공식이라고 할 때 키와 몸무게를 입력 받아 첫 번째 줄에 비만 수치를 출력하고, 비만 수치가 0보다 크면 다음 줄에 비만이라는 메시지를 출력하는 프로그램을 작성하시오.\n"
      ]
    },
    {
      "cell_type": "code",
      "metadata": {
        "colab_type": "code",
        "id": "eZ7clRKUSRKS",
        "colab": {
          "base_uri": "https://localhost:8080/",
          "height": 52
        },
        "outputId": "6e000973-9098-41c0-d34c-f49f44dcd4a2"
      },
      "source": [
        "info = input('키 몸무게 입력 예) 155 60 : ')\n",
        "# code here\n",
        "# 입력 : 155 60\n",
        "# 출력\n",
        "# 비만수치는 5 입니다.\n",
        "# 당신은 비만입니다.\n",
        "# info.split() # ['155', '60']\n",
        "# list(map(int, info.split()))  # [155, 60]\n",
        "height, weight = map(int, info.split())\n",
        "#print(height, weight)\n",
        "\n",
        "fat = weight + 100 - height\n",
        "print(f'비만수치는 {fat} 입니다.')\n",
        "if fat > 0 : \n",
        "    print('당신은 비만입니다.')"
      ],
      "execution_count": null,
      "outputs": [
        {
          "output_type": "stream",
          "text": [
            "키 몸무게 입력 예) 155 60 : 155 50\n",
            "비만수치는 -5 입니다.\n"
          ],
          "name": "stdout"
        }
      ]
    },
    {
      "cell_type": "markdown",
      "metadata": {
        "id": "fYdM-fTHvmpq",
        "colab_type": "text"
      },
      "source": [
        "### if ~ elif ~ else 사용 (P65)"
      ]
    },
    {
      "cell_type": "code",
      "metadata": {
        "colab_type": "code",
        "id": "3l8sjTIvSRKU",
        "colab": {
          "base_uri": "https://localhost:8080/",
          "height": 52
        },
        "outputId": "ca91fe23-f8ea-44bb-bdba-e1632ca3d1e8"
      },
      "source": [
        "gender = input(\"성별을 입력하세요. MALE or FEMALE: \")\n",
        "\n",
        "# code here\n",
        "if gender == 'MALE' :\n",
        "    print('남성입니다.')\n",
        "elif gender == 'FEMALE' :  \n",
        "    print('여성입니다.')\n",
        "else :\n",
        "    print('잘못된 입력값입니다.')  "
      ],
      "execution_count": null,
      "outputs": [
        {
          "output_type": "stream",
          "text": [
            "성별을 입력하세요. MALE or FEMALE: aaa\n",
            "잘못된 입력값입니다.\n"
          ],
          "name": "stdout"
        }
      ]
    },
    {
      "cell_type": "code",
      "metadata": {
        "colab_type": "code",
        "id": "OVLusdLGAqtR",
        "colab": {
          "base_uri": "https://localhost:8080/",
          "height": 52
        },
        "outputId": "5ac6d282-4f1e-4c85-d036-886b37b9330a"
      },
      "source": [
        "# 다른 방법\n",
        "data = input(\"성별을 입력하세요. MALE or FEMALE: \")\n",
        "gender = {'MALE': '남성', 'FEMALE' : '여성'}\n",
        "print(gender.get(data, '잘못된 입력값') + '입니다.')"
      ],
      "execution_count": null,
      "outputs": [
        {
          "output_type": "stream",
          "text": [
            "성별을 입력하세요. MALE or FEMALE: SPYPU\n",
            "잘못된 입력값입니다.\n"
          ],
          "name": "stdout"
        }
      ]
    },
    {
      "cell_type": "markdown",
      "metadata": {
        "id": "tIj_BJRPwMkb",
        "colab_type": "text"
      },
      "source": [
        "#### 3항 연산자 (conditional expression)\n",
        "- True-Value if condition else False-Value\n",
        "- True-Value, False-Value, condition : expression 형태로 사용"
      ]
    },
    {
      "cell_type": "code",
      "metadata": {
        "id": "v66UGW6_wKXt",
        "colab_type": "code",
        "colab": {
          "base_uri": "https://localhost:8080/",
          "height": 34
        },
        "outputId": "66216f8a-5ab6-46fd-d322-75e50b539fad"
      },
      "source": [
        "a = 10 if 3 > 2 else 20\n",
        "a"
      ],
      "execution_count": null,
      "outputs": [
        {
          "output_type": "execute_result",
          "data": {
            "text/plain": [
              "10"
            ]
          },
          "metadata": {
            "tags": []
          },
          "execution_count": 34
        }
      ]
    },
    {
      "cell_type": "code",
      "metadata": {
        "id": "iKNFCE9VwkIc",
        "colab_type": "code",
        "colab": {
          "base_uri": "https://localhost:8080/",
          "height": 34
        },
        "outputId": "cdcb3ac7-e30d-4b95-d8de-ce9508b79ccc"
      },
      "source": [
        "a = 10 if 3 < 2 else 20\n",
        "a"
      ],
      "execution_count": null,
      "outputs": [
        {
          "output_type": "execute_result",
          "data": {
            "text/plain": [
              "20"
            ]
          },
          "metadata": {
            "tags": []
          },
          "execution_count": 35
        }
      ]
    },
    {
      "cell_type": "markdown",
      "metadata": {
        "id": "hRBWpnq-ca_s",
        "colab_type": "text"
      },
      "source": [
        "#### expression을 사용할 수 있는 위치\n",
        "- assignment의 오른쪽 (r-value)\n",
        "   - a = expression\n",
        "- 함수의 argument\n",
        "   - function(expression)\n",
        "- 함수의 return 뒤\n",
        "   - return expression\n"
      ]
    },
    {
      "cell_type": "markdown",
      "metadata": {
        "colab_type": "text",
        "id": "0Za7Sfar7A88"
      },
      "source": [
        "### 02 if문 연습문제 2(학점출력) (P67)\n",
        "- 점수를 입력 받아서 90점 이상이면 A, 80점 이상이면 B, 70점 이상이면 C, 70점 미만이면 D를 출력하도록 프로그램을 작성하시오.\n"
      ]
    },
    {
      "cell_type": "code",
      "metadata": {
        "colab_type": "code",
        "id": "9ZFe0BzwSRKW",
        "colab": {}
      },
      "source": [
        "score = int(input('성적입력 > '))\n",
        "\n",
        "#code here\n",
        "if score >= 90 :\n",
        "  print(\"A\")\n",
        "elif score>=80 :    # elif score < 90 and score >= 80:  ( score < 90 는 사용하지 않아도 됨)\n",
        "  print(\"B\")\n",
        "elif score>=70 :\n",
        "  print(\"C\")\n",
        "else :\n",
        "  print(\"D\") \n",
        "\n"
      ],
      "execution_count": null,
      "outputs": []
    },
    {
      "cell_type": "code",
      "metadata": {
        "colab_type": "code",
        "id": "Lphoq2bn7PGk",
        "colab": {
          "base_uri": "https://localhost:8080/",
          "height": 52
        },
        "outputId": "6525e2ee-d195-4828-9bf5-c5a027e52c0b"
      },
      "source": [
        "#점수를 0 ~ 100으로만 제한하면 다음과 같이 풀이 가능함\n",
        "grade = \"DDDDDDDCBAA\"\n",
        "score = int(input('성적입력 > '))\n",
        "print(grade[score//10])"
      ],
      "execution_count": null,
      "outputs": [
        {
          "output_type": "stream",
          "text": [
            "성적입력 > 59\n",
            "D\n"
          ],
          "name": "stdout"
        }
      ]
    },
    {
      "cell_type": "markdown",
      "metadata": {
        "colab_type": "text",
        "id": "o-rcRyfX5H3v"
      },
      "source": [
        "## 2.반복문\n",
        "    - for\n",
        "    - 2중 for\n",
        "    - while \n",
        "    - break, continue"
      ]
    },
    {
      "cell_type": "markdown",
      "metadata": {
        "id": "QgSErt-FvmqD",
        "colab_type": "text"
      },
      "source": [
        "### 01 while문 (P67)"
      ]
    },
    {
      "cell_type": "code",
      "metadata": {
        "colab_type": "code",
        "id": "LxIiD2Ja5H4M",
        "scrolled": true,
        "colab": {
          "base_uri": "https://localhost:8080/",
          "height": 209
        },
        "outputId": "611fc067-24ed-418e-aca2-669beeb0cb68"
      },
      "source": [
        "gender=''\n",
        "while gender != 'MALE' and gender != 'FEMALE':\n",
        "    gender = input('성별을 입력하세요 >')\n",
        "    \n",
        "    if gender == 'MALE':\n",
        "        print(\"남성입니다\")\n",
        "    elif gender == 'FEMALE':\n",
        "        print(\"여성입니다.\")\n",
        "    else:\n",
        "        print(\"잘못된입력값입니다\")\n",
        "    \n",
        "    #print(\"남성입니다.\" if gender==\"MALE\" else \"여성입니다.\" \\\n",
        "    #          if gender == \"FEMALE\" else \"잘못된입력값입니다.\")\n",
        "print(\"종료\")"
      ],
      "execution_count": null,
      "outputs": [
        {
          "output_type": "stream",
          "text": [
            "성별을 입력하세요 >ㅁ\n",
            "잘못된입력값입니다\n",
            "성별을 입력하세요 >a\n",
            "잘못된입력값입니다\n",
            "성별을 입력하세요 >b\n",
            "잘못된입력값입니다\n",
            "성별을 입력하세요 >d\n",
            "잘못된입력값입니다\n",
            "성별을 입력하세요 >MALE\n",
            "남성입니다\n",
            "종료\n"
          ],
          "name": "stdout"
        }
      ]
    },
    {
      "cell_type": "markdown",
      "metadata": {
        "colab_type": "text",
        "id": "mqf4Il2D-Are"
      },
      "source": [
        "### 02 while문 연습문제 1(1~100의 짝수의 합)  (P69)"
      ]
    },
    {
      "cell_type": "code",
      "metadata": {
        "colab_type": "code",
        "id": "Rs4ZpMj95H4P",
        "colab": {
          "base_uri": "https://localhost:8080/",
          "height": 34
        },
        "outputId": "473b4076-8b35-4a9b-d61b-9c011e2a6006"
      },
      "source": [
        "num = 1\n",
        "tot = 0\n",
        "# code here\n",
        "while num <= 100 :\n",
        "  tot += num   # 0 + 1 => 1,  1 + 2 => 3, 3 + 3 => 6\n",
        "  num += 1     # 1 + 1 => 2,  2 + 1 => 3, 3 + 1 => 4\n",
        "  #print(tot, num)\n",
        "\n",
        "print(tot, num)\n",
        "\n"
      ],
      "execution_count": null,
      "outputs": [
        {
          "output_type": "stream",
          "text": [
            "5050 101\n"
          ],
          "name": "stdout"
        }
      ]
    },
    {
      "cell_type": "markdown",
      "metadata": {
        "colab_type": "text",
        "id": "lTTLDcSM-mxk"
      },
      "source": [
        "### 03 while문 연습문제 2(별(*)출력하기) (P69)"
      ]
    },
    {
      "cell_type": "code",
      "metadata": {
        "id": "3M-UTBz4xYL-",
        "colab_type": "code",
        "colab": {
          "base_uri": "https://localhost:8080/",
          "height": 104
        },
        "outputId": "d9a42415-f4bd-444c-89d5-b6e691c6ef95"
      },
      "source": [
        "# code here\n",
        "num = 1\n",
        "while num <= 5 :\n",
        "  print('*' * num)\n",
        "  num += 1\n",
        "  "
      ],
      "execution_count": null,
      "outputs": [
        {
          "output_type": "stream",
          "text": [
            "*\n",
            "**\n",
            "***\n",
            "****\n",
            "*****\n"
          ],
          "name": "stdout"
        }
      ]
    },
    {
      "cell_type": "markdown",
      "metadata": {
        "id": "j3rQmxArvmpz",
        "colab_type": "text"
      },
      "source": [
        "### 04 for문 (P70)"
      ]
    },
    {
      "cell_type": "code",
      "metadata": {
        "id": "BttqcgH1hRAv",
        "colab_type": "code",
        "colab": {}
      },
      "source": [
        "colors = ['red', 'green', 'blue']\n",
        "dir(colors)  # iterable (o), iterator (x)  : iterable => __iter__"
      ],
      "execution_count": null,
      "outputs": []
    },
    {
      "cell_type": "code",
      "metadata": {
        "id": "LPPwB744Ac4k",
        "colab_type": "code",
        "colab": {}
      },
      "source": [
        "dir( iter(colors) )   # iterable (o), iterator (o) : iterator => __iter__, __next__\n",
        "# iterator is iterable\n",
        "# iterable -> iter에의해서 iterator가 될 수 있는"
      ],
      "execution_count": null,
      "outputs": []
    },
    {
      "cell_type": "code",
      "metadata": {
        "id": "i8ccl9K-A08e",
        "colab_type": "code",
        "colab": {
          "base_uri": "https://localhost:8080/",
          "height": 34
        },
        "outputId": "dee4ec10-5ddb-474b-bdff-dda66fa044c2"
      },
      "source": [
        "x = iter(colors)\n",
        "iter(x)"
      ],
      "execution_count": null,
      "outputs": [
        {
          "output_type": "execute_result",
          "data": {
            "text/plain": [
              "<list_iterator at 0x7f98924f9160>"
            ]
          },
          "metadata": {
            "tags": []
          },
          "execution_count": 64
        }
      ]
    },
    {
      "cell_type": "code",
      "metadata": {
        "id": "_16IBJsJhrLv",
        "colab_type": "code",
        "colab": {
          "base_uri": "https://localhost:8080/",
          "height": 34
        },
        "outputId": "46585752-c578-48f9-f1c9-e4dd8d3c94b8"
      },
      "source": [
        "colors = ['red', 'green', 'blue']  # iterable : __iter__를 가지고 iterator가 될 수 있는 객체\n",
        "iter(colors)"
      ],
      "execution_count": null,
      "outputs": [
        {
          "output_type": "execute_result",
          "data": {
            "text/plain": [
              "<list_iterator at 0x7f989258e908>"
            ]
          },
          "metadata": {
            "tags": []
          },
          "execution_count": 59
        }
      ]
    },
    {
      "cell_type": "code",
      "metadata": {
        "id": "PRSGf8EYh2SO",
        "colab_type": "code",
        "colab": {
          "base_uri": "https://localhost:8080/",
          "height": 34
        },
        "outputId": "55ea04a8-7406-4876-82e4-7e180c05adb2"
      },
      "source": [
        "# iterator : iteration을 할 수 있는 주체 \n",
        "# __next__ 를 가지고 다음 항을 가져올 수 있다.\n",
        "# next()\n",
        "next(iter(colors))"
      ],
      "execution_count": null,
      "outputs": [
        {
          "output_type": "execute_result",
          "data": {
            "application/vnd.google.colaboratory.intrinsic+json": {
              "type": "string"
            },
            "text/plain": [
              "'red'"
            ]
          },
          "metadata": {
            "tags": []
          },
          "execution_count": 61
        }
      ]
    },
    {
      "cell_type": "code",
      "metadata": {
        "colab_type": "code",
        "id": "bKdFJmsO5H3x",
        "scrolled": true,
        "colab": {
          "base_uri": "https://localhost:8080/",
          "height": 69
        },
        "outputId": "2edda116-619d-4da0-9d50-71322143f174"
      },
      "source": [
        "colors = ['red', 'green', 'blue']\n",
        "for c in colors:  # for  target_list  in iterable :\n",
        "    print(c)"
      ],
      "execution_count": null,
      "outputs": [
        {
          "output_type": "stream",
          "text": [
            "red\n",
            "green\n",
            "blue\n"
          ],
          "name": "stdout"
        }
      ]
    },
    {
      "cell_type": "code",
      "metadata": {
        "id": "d1ZKOyfEBTez",
        "colab_type": "code",
        "colab": {}
      },
      "source": [
        "dir(map)   #  map :  iterator, iterator is iterable"
      ],
      "execution_count": null,
      "outputs": []
    },
    {
      "cell_type": "code",
      "metadata": {
        "id": "WQciCHNFBM8L",
        "colab_type": "code",
        "colab": {
          "base_uri": "https://localhost:8080/",
          "height": 52
        },
        "outputId": "a73785e6-1b41-4f2a-da36-a0e013e1b5da"
      },
      "source": [
        "# iterable 은 name unpack\n",
        "info = input('키, 몸무게 입력 : ')\n",
        "height, weight = map(int, info.split())\n",
        "#이 부분은 tuple 이나 다른 자료구조를 거치지 않고 어떻게 변수에 바로 숫자가 들어가나요?\n",
        "height, weight"
      ],
      "execution_count": null,
      "outputs": [
        {
          "output_type": "stream",
          "text": [
            "키, 몸무게 입력 : 155 60\n"
          ],
          "name": "stdout"
        },
        {
          "output_type": "execute_result",
          "data": {
            "text/plain": [
              "(155, 60)"
            ]
          },
          "metadata": {
            "tags": []
          },
          "execution_count": 67
        }
      ]
    },
    {
      "cell_type": "markdown",
      "metadata": {
        "colab_type": "text",
        "id": "4JxFeoAw8ZYx"
      },
      "source": [
        "### 05 for문 연습문제 1(합격, 불합격) (P70)\n",
        "- 시험 점수가 60점 이상이면 합격이고 그렇지 않으면 불합격입니다. 라는 결과를 보여주는 프로그램 구현"
      ]
    },
    {
      "cell_type": "code",
      "metadata": {
        "colab_type": "code",
        "id": "1u-BKZYb5H33",
        "colab": {
          "base_uri": "https://localhost:8080/",
          "height": 192
        },
        "outputId": "69bdcb24-2cec-489a-d0f7-0fe1a6dd6991"
      },
      "source": [
        "result = [90, 35, 68, 44, 81]\n",
        "\n",
        "# code here\n",
        "for score in result :\n",
        "   print( \"합격\" if score >= 60 else \"불합격\" )\n",
        "\n",
        "for score in result :\n",
        "   if score >= 60 :\n",
        "      print('합격')\n",
        "   else :\n",
        "      print('불합격')"
      ],
      "execution_count": null,
      "outputs": [
        {
          "output_type": "stream",
          "text": [
            "합격\n",
            "불합격\n",
            "합격\n",
            "불합격\n",
            "합격\n",
            "합격\n",
            "불합격\n",
            "합격\n",
            "불합격\n",
            "합격\n"
          ],
          "name": "stdout"
        }
      ]
    },
    {
      "cell_type": "code",
      "metadata": {
        "id": "c9jrv_-NCj2s",
        "colab_type": "code",
        "colab": {}
      },
      "source": [
        "a = [1, 2, 3]\n",
        "a = iter(a)\n",
        "print(next(a))\n",
        "print(next(a))\n",
        "print(next(a))\n",
        "print(next(a)) # for 문 종료"
      ],
      "execution_count": null,
      "outputs": []
    },
    {
      "cell_type": "code",
      "metadata": {
        "colab_type": "code",
        "id": "BTr1WFsgZv8M",
        "colab": {}
      },
      "source": [
        "# 추가코드 - for, if statement 없이 풀기 \n",
        "result = [90, 35, 68, 44, 81]\n",
        "\n",
        "r = '\\n'.join(f\"{n}번 학생은 {'합격' if r >= 60 else '불합격'}입니다\"\n",
        "          for n, r in enumerate(result, start=1))\n",
        "print(r)"
      ],
      "execution_count": null,
      "outputs": []
    },
    {
      "cell_type": "markdown",
      "metadata": {
        "id": "uQ52EmxJvmp5",
        "colab_type": "text"
      },
      "source": [
        "### 06 range를 이용한 for문 (P72)"
      ]
    },
    {
      "cell_type": "code",
      "metadata": {
        "id": "5D01PvRPDsNC",
        "colab_type": "code",
        "colab": {}
      },
      "source": [
        "dir(range)"
      ],
      "execution_count": null,
      "outputs": []
    },
    {
      "cell_type": "code",
      "metadata": {
        "colab_type": "code",
        "id": "rfTby6Pr5H3_",
        "colab": {}
      },
      "source": [
        "for i in range(0, 10):\n",
        "    print(i)"
      ],
      "execution_count": null,
      "outputs": []
    },
    {
      "cell_type": "markdown",
      "metadata": {
        "colab_type": "text",
        "id": "LkbFiY2h88hW"
      },
      "source": [
        "### 07 for문 연습문제 2(1~100의 합) (P72)"
      ]
    },
    {
      "cell_type": "code",
      "metadata": {
        "colab_type": "code",
        "id": "AwTZ27qv5H4C",
        "colab": {
          "base_uri": "https://localhost:8080/",
          "height": 52
        },
        "outputId": "9f4c95e6-beb7-42ab-c5f0-ecf837605570"
      },
      "source": [
        "# code here\n",
        "\n",
        "tot = 0\n",
        "for x in range(1, 101) :\n",
        "    tot += x\n",
        "    \n",
        "print(tot)\n",
        "print(sum(range(1, 101)))   # range(3, 11, 2)   3부터 10까지 2씩 증가하면서 반복"
      ],
      "execution_count": null,
      "outputs": [
        {
          "output_type": "stream",
          "text": [
            "5050\n",
            "5050\n"
          ],
          "name": "stdout"
        }
      ]
    },
    {
      "cell_type": "code",
      "metadata": {
        "id": "-827fK68EmJj",
        "colab_type": "code",
        "colab": {
          "base_uri": "https://localhost:8080/",
          "height": 34
        },
        "outputId": "52a9161b-b65a-4207-e682-c83a8fe7050c"
      },
      "source": [
        "# 1 ~ 100까지 홀수의 합\n",
        "tot = 0 \n",
        "for x in range(1,101,2):\n",
        "   tot += x\n",
        "print(tot)"
      ],
      "execution_count": null,
      "outputs": [
        {
          "output_type": "stream",
          "text": [
            "2500\n"
          ],
          "name": "stdout"
        }
      ]
    },
    {
      "cell_type": "code",
      "metadata": {
        "id": "0mqf02pgFaQS",
        "colab_type": "code",
        "colab": {
          "base_uri": "https://localhost:8080/",
          "height": 34
        },
        "outputId": "5e1b078a-01fb-49d9-a645-23e6625f2f90"
      },
      "source": [
        "tot = 0\n",
        "for x in range(1, 101):\n",
        "  if x%2:\n",
        "    tot += x\n",
        "print(tot)"
      ],
      "execution_count": null,
      "outputs": [
        {
          "output_type": "stream",
          "text": [
            "2500\n"
          ],
          "name": "stdout"
        }
      ]
    },
    {
      "cell_type": "code",
      "metadata": {
        "id": "NliHDZGOFlua",
        "colab_type": "code",
        "colab": {}
      },
      "source": [
        "sum(range(1, 11))\n",
        "sum = 0  # sum 이라는 이름이 정수객체를 참조\n",
        "sum(range(1, 11))\n"
      ],
      "execution_count": null,
      "outputs": []
    },
    {
      "cell_type": "code",
      "metadata": {
        "id": "NtvioJjhGAOr",
        "colab_type": "code",
        "colab": {
          "base_uri": "https://localhost:8080/",
          "height": 34
        },
        "outputId": "76f76bdf-dea7-4168-ff18-d1958a0c857b"
      },
      "source": [
        "type(globals()['sum'])\n",
        "del sum\n",
        "#type(sum)"
      ],
      "execution_count": null,
      "outputs": [
        {
          "output_type": "execute_result",
          "data": {
            "text/plain": [
              "builtin_function_or_method"
            ]
          },
          "metadata": {
            "tags": []
          },
          "execution_count": 91
        }
      ]
    },
    {
      "cell_type": "code",
      "metadata": {
        "id": "qfW_IzZyE74L",
        "colab_type": "code",
        "colab": {}
      },
      "source": [
        "# x ~ y 까지의 홀수의 합\n",
        "# x와 y는 모두 홀수이거나 짝수 일 수 있음\n",
        "x, y = map(int, input('Input x y : ').split())\n",
        "\n"
      ],
      "execution_count": null,
      "outputs": []
    },
    {
      "cell_type": "markdown",
      "metadata": {
        "id": "LVnbhZ_xvmp_",
        "colab_type": "text"
      },
      "source": [
        "### 08 for 문의 중첩 (P73)"
      ]
    },
    {
      "cell_type": "code",
      "metadata": {
        "colab_type": "code",
        "id": "7f-tNY6_5H4F",
        "colab": {
          "base_uri": "https://localhost:8080/",
          "height": 122
        },
        "outputId": "a05df7ab-9bbc-4293-fe19-735b4821297c"
      },
      "source": [
        "matrix=[[1,2,3],\n",
        "        [4,5,6],\n",
        "        [7,8,9,10]]\n",
        "\n",
        "for i in matrix:\n",
        "    #print(i)\n",
        "    for j in i:\n",
        "        print(j, end = \" \")\n",
        "    print()\n",
        "\n",
        "# 추가 (expression - comprehension)\n",
        "\n",
        "#(   ' '.join(map(str, x)) for x in matrix)  # x = [1,2,3]    '1 2 3'\n",
        "                                             # x = [4,5,6]    '4 5 6' \n",
        "                                             # x = [7,8,9,10] '7 8 9 10' \n",
        "\n",
        "#x = '\\n'.join( ' '.join(map(str, x)) for x in matrix) \n",
        "#x = '1 2 3\\n4 5 6\\n7 8 9 10\\n'                                             \n",
        "#print('\\n'.join( ' '.join(map(str, x)) for x in matrix))\n"
      ],
      "execution_count": null,
      "outputs": [
        {
          "output_type": "stream",
          "text": [
            "1 2 3 \n",
            "4 5 6 \n",
            "7 8 9 10 \n",
            "1 2 3\n",
            "4 5 6\n",
            "7 8 9 10\n"
          ],
          "name": "stdout"
        }
      ]
    },
    {
      "cell_type": "markdown",
      "metadata": {
        "colab_type": "text",
        "id": "1FoI_CMo9pii"
      },
      "source": [
        "### 09 for문 연습문제 3 (2~9단 출력) (P81)"
      ]
    },
    {
      "cell_type": "code",
      "metadata": {
        "colab_type": "code",
        "id": "NPG7CElU5H4H",
        "colab": {
          "base_uri": "https://localhost:8080/",
          "height": 157
        },
        "outputId": "b76cf4b9-fcd3-491a-d431-a925f62985d6"
      },
      "source": [
        "# code here\n",
        "'''\n",
        "2 4 6 8 10 ...\n",
        "3 6 9 12 15 ...\n",
        "...\n",
        "9 18 27 ...\n",
        "\n",
        "for 단을 변경\n",
        "    for 곱하는 수 변경  :  # 한 개의 행을 출력\n",
        "'''\n",
        "\n",
        "for dan in range(2, 10):\n",
        "  for x in range(1, 10) :\n",
        "    print(f'{dan*x:2}', end=' ')\n",
        "  print()"
      ],
      "execution_count": null,
      "outputs": [
        {
          "output_type": "stream",
          "text": [
            " 2  4  6  8 10 12 14 16 18 \n",
            " 3  6  9 12 15 18 21 24 27 \n",
            " 4  8 12 16 20 24 28 32 36 \n",
            " 5 10 15 20 25 30 35 40 45 \n",
            " 6 12 18 24 30 36 42 48 54 \n",
            " 7 14 21 28 35 42 49 56 63 \n",
            " 8 16 24 32 40 48 56 64 72 \n",
            " 9 18 27 36 45 54 63 72 81 \n"
          ],
          "name": "stdout"
        }
      ]
    },
    {
      "cell_type": "markdown",
      "metadata": {
        "id": "HuG1rvo5vmqJ",
        "colab_type": "text"
      },
      "source": [
        "### 10 break, continue, pass  (P74)\n",
        "- break : 현재 속한 반복문 종료\n",
        "- continue : 현재 반복에 대해 루프 내부의 나머지 코드를 건너 뛰는데 사용\n",
        "- pass : 아무 작업도 수행하지 않음 (임시함수, 무한 반복문)"
      ]
    },
    {
      "cell_type": "code",
      "metadata": {
        "colab_type": "code",
        "id": "_fgs5zVk5H4T",
        "colab": {
          "base_uri": "https://localhost:8080/",
          "height": 34
        },
        "outputId": "c7ec8809-63d2-4fa0-caf5-cbddcd8df7ca"
      },
      "source": [
        "for i in range(10):  # 0 1 2 3 4 5 6 7 8 9\n",
        "    if i == 2:\n",
        "        continue\n",
        "    if i == 5:\n",
        "        break\n",
        "    print(i, end=' ')  # 0 1 3 4 Done\n",
        "\n",
        "print(\"Done\")    "
      ],
      "execution_count": null,
      "outputs": [
        {
          "output_type": "stream",
          "text": [
            "0 1 3 4 Done\n"
          ],
          "name": "stdout"
        }
      ]
    },
    {
      "cell_type": "code",
      "metadata": {
        "id": "zSWX9LJ9vmqL",
        "colab_type": "code",
        "colab": {}
      },
      "source": [
        "def myfunc():\n",
        "    pass\n",
        "\n",
        "while True :\n",
        "    pass"
      ],
      "execution_count": null,
      "outputs": []
    },
    {
      "cell_type": "markdown",
      "metadata": {
        "id": "0JgCkFFkyMWe",
        "colab_type": "text"
      },
      "source": [
        "### 3. comprehension(내포)\n",
        "- List, Set, Dictionary\n",
        "   - 특정 리스트의 각 원소에 대해 식을 적용한 결과를 새로운 list, set, dict로 생성\n",
        "- List Comprehension\n",
        "   - [ expression for target_list in iterable if condition ]\n",
        "- Set Comprehension\n",
        "   - { expression for target_list in iterable if condition }\n",
        "- Dict Comprehension\n",
        "   - { expression : expression for target_list in iterable if condition }   \n",
        "- Generator Expression (=iterator)\n",
        "   - ( expression for target_list in iterable if condition )\n",
        "   -  함수의 argument로 사용시 (  ) 생략가능\n"
      ]
    },
    {
      "cell_type": "code",
      "metadata": {
        "id": "_N3Kf-a6LDtS",
        "colab_type": "code",
        "colab": {
          "base_uri": "https://localhost:8080/",
          "height": 34
        },
        "outputId": "eb8b7f0d-49a2-4925-9194-4447cd257089"
      },
      "source": [
        "list(range(10))"
      ],
      "execution_count": null,
      "outputs": [
        {
          "output_type": "execute_result",
          "data": {
            "text/plain": [
              "[0, 1, 2, 3, 4, 5, 6, 7, 8, 9]"
            ]
          },
          "metadata": {
            "tags": []
          },
          "execution_count": 106
        }
      ]
    },
    {
      "cell_type": "code",
      "metadata": {
        "id": "Kkngl599K39r",
        "colab_type": "code",
        "colab": {
          "base_uri": "https://localhost:8080/",
          "height": 34
        },
        "outputId": "6e69cca4-e596-4e3a-9d30-852f04d5f3af"
      },
      "source": [
        "[  str(x) for x in range(10) if x%2 ]"
      ],
      "execution_count": null,
      "outputs": [
        {
          "output_type": "execute_result",
          "data": {
            "text/plain": [
              "['1', '3', '5', '7', '9']"
            ]
          },
          "metadata": {
            "tags": []
          },
          "execution_count": 110
        }
      ]
    },
    {
      "cell_type": "code",
      "metadata": {
        "id": "7rxyuuSEy52n",
        "colab_type": "code",
        "colab": {
          "base_uri": "https://localhost:8080/",
          "height": 34
        },
        "outputId": "240abff1-1b77-40b3-f1d0-c85902721150"
      },
      "source": [
        "s = [ x ** 2 for x in range(10)]\n",
        "s"
      ],
      "execution_count": null,
      "outputs": [
        {
          "output_type": "execute_result",
          "data": {
            "text/plain": [
              "[0, 1, 4, 9, 16, 25, 36, 49, 64, 81]"
            ]
          },
          "metadata": {
            "tags": []
          },
          "execution_count": 111
        }
      ]
    },
    {
      "cell_type": "code",
      "metadata": {
        "id": "Erzhxmb3zA-t",
        "colab_type": "code",
        "colab": {
          "base_uri": "https://localhost:8080/",
          "height": 34
        },
        "outputId": "4f69cc4d-5131-46fe-cd11-aaf3715ccd0a"
      },
      "source": [
        "v = [ 2 ** x for x in range(13)]\n",
        "v"
      ],
      "execution_count": null,
      "outputs": [
        {
          "output_type": "execute_result",
          "data": {
            "text/plain": [
              "[1, 2, 4, 8, 16, 32, 64, 128, 256, 512, 1024, 2048, 4096]"
            ]
          },
          "metadata": {
            "tags": []
          },
          "execution_count": 112
        }
      ]
    },
    {
      "cell_type": "code",
      "metadata": {
        "id": "dRt-ABs9zGkt",
        "colab_type": "code",
        "colab": {
          "base_uri": "https://localhost:8080/",
          "height": 34
        },
        "outputId": "7577ede2-d3e8-4e49-b604-1c638178afa7"
      },
      "source": [
        "m = [x for x in s if x % 2 == 0 ]\n",
        "#m = [x for x in s if not x % 2 ]\n",
        "m"
      ],
      "execution_count": null,
      "outputs": [
        {
          "output_type": "execute_result",
          "data": {
            "text/plain": [
              "[0, 4, 16, 36, 64]"
            ]
          },
          "metadata": {
            "tags": []
          },
          "execution_count": 4
        }
      ]
    },
    {
      "cell_type": "code",
      "metadata": {
        "id": "YTsSQgpqzlYV",
        "colab_type": "code",
        "colab": {
          "base_uri": "https://localhost:8080/",
          "height": 34
        },
        "outputId": "72d4e708-007d-419d-ccd8-35e4a3dcfca8"
      },
      "source": [
        "# Set Comprehension\n",
        "{ x**2 for x in range(10) }"
      ],
      "execution_count": null,
      "outputs": [
        {
          "output_type": "execute_result",
          "data": {
            "text/plain": [
              "{0, 1, 4, 9, 16, 25, 36, 49, 64, 81}"
            ]
          },
          "metadata": {
            "tags": []
          },
          "execution_count": 6
        }
      ]
    },
    {
      "cell_type": "code",
      "metadata": {
        "id": "srBNafbOzs7t",
        "colab_type": "code",
        "colab": {
          "base_uri": "https://localhost:8080/",
          "height": 34
        },
        "outputId": "9e13eddc-e1ef-46cf-bda9-949693fb1fbd"
      },
      "source": [
        "# Dict Comprehension\n",
        "a = {'a' : 10, 'b' : 20, 'c' : 30, 'd' : 40}\n",
        "#a.items()\n",
        "{ value : key for key, value in a.items() if value >= 20 }"
      ],
      "execution_count": null,
      "outputs": [
        {
          "output_type": "execute_result",
          "data": {
            "text/plain": [
              "{20: 'b', 30: 'c', 40: 'd'}"
            ]
          },
          "metadata": {
            "tags": []
          },
          "execution_count": 114
        }
      ]
    },
    {
      "cell_type": "code",
      "metadata": {
        "id": "jZbdnhpoQOMq",
        "colab_type": "code",
        "colab": {
          "base_uri": "https://localhost:8080/",
          "height": 34
        },
        "outputId": "f9b3c14e-07d9-4388-facf-f55c73e88f9f"
      },
      "source": [
        "a = [ dan * x  \n",
        "  for dan in range(2, 10)      # 8\n",
        "     for x in range(1, 10) ]   # 9\n",
        "len(a)"
      ],
      "execution_count": null,
      "outputs": [
        {
          "output_type": "execute_result",
          "data": {
            "text/plain": [
              "72"
            ]
          },
          "metadata": {
            "tags": []
          },
          "execution_count": 119
        }
      ]
    },
    {
      "cell_type": "code",
      "metadata": {
        "id": "vKvnvwblRKdZ",
        "colab_type": "code",
        "colab": {
          "base_uri": "https://localhost:8080/",
          "height": 34
        },
        "outputId": "191eafba-bf98-46e4-80e7-134976250476"
      },
      "source": [
        "a = { dan * x  \n",
        "  for dan in range(2, 10)      # 8\n",
        "     for x in range(1, 10) }   # 9\n",
        "len(a)"
      ],
      "execution_count": null,
      "outputs": [
        {
          "output_type": "execute_result",
          "data": {
            "text/plain": [
              "35"
            ]
          },
          "metadata": {
            "tags": []
          },
          "execution_count": 117
        }
      ]
    },
    {
      "cell_type": "code",
      "metadata": {
        "id": "H-UDNNYmRopX",
        "colab_type": "code",
        "colab": {
          "base_uri": "https://localhost:8080/",
          "height": 34
        },
        "outputId": "5827c2ae-53f1-497a-c2e5-6b3c626d59f4"
      },
      "source": [
        "s = ( x ** 2 for x in range(10) )\n",
        "type(s)\n",
        "# generator is iterator"
      ],
      "execution_count": null,
      "outputs": [
        {
          "output_type": "execute_result",
          "data": {
            "text/plain": [
              "generator"
            ]
          },
          "metadata": {
            "tags": []
          },
          "execution_count": 120
        }
      ]
    },
    {
      "cell_type": "code",
      "metadata": {
        "id": "xDqA5NgFRszH",
        "colab_type": "code",
        "colab": {
          "base_uri": "https://localhost:8080/",
          "height": 69
        },
        "outputId": "b3692fd8-c201-4848-f998-2edc1b2c2528"
      },
      "source": [
        "print(next(s))\n",
        "print(next(s))\n",
        "print(next(s))"
      ],
      "execution_count": null,
      "outputs": [
        {
          "output_type": "stream",
          "text": [
            "1\n",
            "4\n",
            "9\n"
          ],
          "name": "stdout"
        }
      ]
    }
  ]
}