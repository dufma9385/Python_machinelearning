{
  "nbformat": 4,
  "nbformat_minor": 0,
  "metadata": {
    "colab": {
      "name": "20-08-12_numpy.ipynb",
      "provenance": [],
      "collapsed_sections": [],
      "authorship_tag": "ABX9TyO7WrtZZUxoCJSczjqcaCps",
      "include_colab_link": true
    },
    "kernelspec": {
      "name": "python3",
      "display_name": "Python 3"
    }
  },
  "cells": [
    {
      "cell_type": "markdown",
      "metadata": {
        "id": "view-in-github",
        "colab_type": "text"
      },
      "source": [
        "<a href=\"https://colab.research.google.com/github/dufma9385/Python_machinelearning/blob/master/20_08_12_numpy.ipynb\" target=\"_parent\"><img src=\"https://colab.research.google.com/assets/colab-badge.svg\" alt=\"Open In Colab\"/></a>"
      ]
    },
    {
      "cell_type": "code",
      "metadata": {
        "id": "K5w-gZC2_vfm",
        "colab_type": "code",
        "colab": {}
      },
      "source": [
        "# 넘파이 사용하기\n",
        "import numpy as np"
      ],
      "execution_count": null,
      "outputs": []
    },
    {
      "cell_type": "code",
      "metadata": {
        "id": "xAVcTpWXCdSM",
        "colab_type": "code",
        "colab": {}
      },
      "source": [
        "list1 = [1,3,5,7,9]\n",
        "np1 = np.array( list1 )\n",
        "list2 = [[1,2,3],[4,5,6]]\n",
        "np2 = np.array(list2)"
      ],
      "execution_count": null,
      "outputs": []
    },
    {
      "cell_type": "code",
      "metadata": {
        "id": "ITxd244XC2K7",
        "colab_type": "code",
        "colab": {
          "base_uri": "https://localhost:8080/",
          "height": 105
        },
        "outputId": "5c7c80ad-8aeb-4539-beeb-67cff9722c17"
      },
      "source": [
        "print(list1)\n",
        "print(np1)\n",
        "print(list2)\n",
        "np2"
      ],
      "execution_count": null,
      "outputs": [
        {
          "output_type": "stream",
          "text": [
            "[1, 3, 5, 7, 9]\n",
            "[1 3 5 7 9]\n",
            "[[1, 2, 3], [4, 5, 6]]\n"
          ],
          "name": "stdout"
        },
        {
          "output_type": "execute_result",
          "data": {
            "text/plain": [
              "array([[1, 2, 3],\n",
              "       [4, 5, 6]])"
            ]
          },
          "metadata": {
            "tags": []
          },
          "execution_count": 20
        }
      ]
    },
    {
      "cell_type": "code",
      "metadata": {
        "id": "X3qy5pigDqID",
        "colab_type": "code",
        "colab": {
          "base_uri": "https://localhost:8080/",
          "height": 34
        },
        "outputId": "e90069cb-558c-40bf-c6a8-670f2f8ba6df"
      },
      "source": [
        "# list1 + 1 불가 for문 사용 필수\n",
        "for i in list1:\n",
        "  print(i+1,end=\" \")"
      ],
      "execution_count": null,
      "outputs": [
        {
          "output_type": "stream",
          "text": [
            "2 4 6 8 10 "
          ],
          "name": "stdout"
        }
      ]
    },
    {
      "cell_type": "code",
      "metadata": {
        "id": "E_liWq_7Dr6L",
        "colab_type": "code",
        "colab": {
          "base_uri": "https://localhost:8080/",
          "height": 52
        },
        "outputId": "224470b1-326f-4fc4-e2f8-b94d068aa786"
      },
      "source": [
        "print(np1) #반복을 개발자가 할 필요 없다\n",
        "np1 + 1"
      ],
      "execution_count": null,
      "outputs": [
        {
          "output_type": "stream",
          "text": [
            "[1 3 5 7 9]\n"
          ],
          "name": "stdout"
        },
        {
          "output_type": "execute_result",
          "data": {
            "text/plain": [
              "array([ 2,  4,  6,  8, 10])"
            ]
          },
          "metadata": {
            "tags": []
          },
          "execution_count": 21
        }
      ]
    },
    {
      "cell_type": "code",
      "metadata": {
        "id": "_599jwfKFOPU",
        "colab_type": "code",
        "colab": {
          "base_uri": "https://localhost:8080/",
          "height": 52
        },
        "outputId": "e47c9f9c-5158-4abd-f629-e1ef256b5839"
      },
      "source": [
        "np1.ndim  #차원 수\n",
        "np2.ndim  #3행 3열짜리\n",
        "np.ndim(np2) #차원 수 반환 함수 -> np1.ndim\n",
        "np1.shape #행,열,수\n",
        "np2.shape\n",
        "np1.size #항목갯수\n",
        "np2.size\n",
        "np1.dtype #데이터 타입\n",
        "np2.dtype\n",
        "#np2.astype(\"float64\") #타입변환"
      ],
      "execution_count": null,
      "outputs": [
        {
          "output_type": "execute_result",
          "data": {
            "text/plain": [
              "array([[1., 2., 3.],\n",
              "       [4., 5., 6.]])"
            ]
          },
          "metadata": {
            "tags": []
          },
          "execution_count": 28
        }
      ]
    },
    {
      "cell_type": "code",
      "metadata": {
        "id": "rfID4AAbJSEa",
        "colab_type": "code",
        "colab": {
          "base_uri": "https://localhost:8080/",
          "height": 52
        },
        "outputId": "355a3921-7565-402c-cf53-328541c6a800"
      },
      "source": [
        "print(list(range(1,5))) #1,2,3,4\n",
        "print(np.arange(1,5))"
      ],
      "execution_count": null,
      "outputs": [
        {
          "output_type": "stream",
          "text": [
            "[1, 2, 3, 4]\n",
            "[1 2 3 4]\n"
          ],
          "name": "stdout"
        }
      ]
    },
    {
      "cell_type": "code",
      "metadata": {
        "id": "r-JXRwxDNg4o",
        "colab_type": "code",
        "colab": {
          "base_uri": "https://localhost:8080/",
          "height": 52
        },
        "outputId": "34f44f66-92a0-489a-9513-45397751d4b6"
      },
      "source": [
        "np.random.randn(10) #0-1사이 정규분포 난수생성"
      ],
      "execution_count": null,
      "outputs": [
        {
          "output_type": "execute_result",
          "data": {
            "text/plain": [
              "array([-0.57675182,  1.6714283 , -0.55865586,  1.06192318,  1.64246059,\n",
              "       -1.23492867,  0.73684604,  0.8542905 ,  0.63693692,  0.5471864 ])"
            ]
          },
          "metadata": {
            "tags": []
          },
          "execution_count": 31
        }
      ]
    },
    {
      "cell_type": "code",
      "metadata": {
        "id": "LtzRW3qcOsD5",
        "colab_type": "code",
        "colab": {
          "base_uri": "https://localhost:8080/",
          "height": 34
        },
        "outputId": "d935880e-774a-4223-fd70-6ccf897dc32b"
      },
      "source": [
        "np1[1]=10\n",
        "np1"
      ],
      "execution_count": null,
      "outputs": [
        {
          "output_type": "execute_result",
          "data": {
            "text/plain": [
              "array([ 1, 10,  5,  7,  9])"
            ]
          },
          "metadata": {
            "tags": []
          },
          "execution_count": 33
        }
      ]
    },
    {
      "cell_type": "code",
      "metadata": {
        "id": "eVwk2XhhOy5T",
        "colab_type": "code",
        "colab": {
          "base_uri": "https://localhost:8080/",
          "height": 87
        },
        "outputId": "15ff404a-1147-41ad-cf33-679466043d31"
      },
      "source": [
        "np1 = np.array([[1,2],[3,4]])\n",
        "np2 = np.array([[1,2],[3,4]])\n",
        "print(np1)\n",
        "print(np2)"
      ],
      "execution_count": null,
      "outputs": [
        {
          "output_type": "stream",
          "text": [
            "[[1 2]\n",
            " [3 4]]\n",
            "[[1 2]\n",
            " [3 4]]\n"
          ],
          "name": "stdout"
        }
      ]
    },
    {
      "cell_type": "code",
      "metadata": {
        "id": "tqrShcuxSk10",
        "colab_type": "code",
        "colab": {
          "base_uri": "https://localhost:8080/",
          "height": 52
        },
        "outputId": "5ea6853d-88db-4cfa-cfa6-cdd51458da8e"
      },
      "source": [
        "np1+np2"
      ],
      "execution_count": null,
      "outputs": [
        {
          "output_type": "execute_result",
          "data": {
            "text/plain": [
              "array([[2, 4],\n",
              "       [6, 8]])"
            ]
          },
          "metadata": {
            "tags": []
          },
          "execution_count": 35
        }
      ]
    },
    {
      "cell_type": "code",
      "metadata": {
        "id": "21ogkYsiTvAx",
        "colab_type": "code",
        "colab": {
          "base_uri": "https://localhost:8080/",
          "height": 70
        },
        "outputId": "0d065af5-3e7c-4f62-db58-08c51cccc9be"
      },
      "source": [
        "arr = np.arange(12).reshape(3,4)\n",
        "arr"
      ],
      "execution_count": null,
      "outputs": [
        {
          "output_type": "execute_result",
          "data": {
            "text/plain": [
              "array([[ 0,  1,  2,  3],\n",
              "       [ 4,  5,  6,  7],\n",
              "       [ 8,  9, 10, 11]])"
            ]
          },
          "metadata": {
            "tags": []
          },
          "execution_count": 52
        }
      ]
    },
    {
      "cell_type": "code",
      "metadata": {
        "id": "L-VKUUD_T2fi",
        "colab_type": "code",
        "colab": {
          "base_uri": "https://localhost:8080/",
          "height": 34
        },
        "outputId": "b94b79bc-5e2b-4295-d112-f01e4d0a261c"
      },
      "source": [
        "arr2 = np.array([arr[1,0], arr[1,1], arr[1,2]])\n",
        "arr2"
      ],
      "execution_count": null,
      "outputs": [
        {
          "output_type": "execute_result",
          "data": {
            "text/plain": [
              "array([4, 5, 6])"
            ]
          },
          "metadata": {
            "tags": []
          },
          "execution_count": 42
        }
      ]
    },
    {
      "cell_type": "code",
      "metadata": {
        "id": "oWQaKng6UOg7",
        "colab_type": "code",
        "colab": {
          "base_uri": "https://localhost:8080/",
          "height": 34
        },
        "outputId": "08fdacc5-5261-4823-ea22-f4f3a08b0d7f"
      },
      "source": [
        "arr2[0] = 99 #복사본을 가져와서 적용하는것\n",
        "arr2"
      ],
      "execution_count": null,
      "outputs": [
        {
          "output_type": "execute_result",
          "data": {
            "text/plain": [
              "array([99,  5,  6])"
            ]
          },
          "metadata": {
            "tags": []
          },
          "execution_count": 43
        }
      ]
    },
    {
      "cell_type": "code",
      "metadata": {
        "id": "MgU9granURWB",
        "colab_type": "code",
        "colab": {
          "base_uri": "https://localhost:8080/",
          "height": 70
        },
        "outputId": "8f42ef62-b9b7-4f06-e34c-18949bc62384"
      },
      "source": [
        "arr #원본은 변하지 않는다"
      ],
      "execution_count": null,
      "outputs": [
        {
          "output_type": "execute_result",
          "data": {
            "text/plain": [
              "array([[ 0,  1,  2,  3],\n",
              "       [ 4,  5,  6,  7],\n",
              "       [ 8,  9, 10, 11]])"
            ]
          },
          "metadata": {
            "tags": []
          },
          "execution_count": 44
        }
      ]
    },
    {
      "cell_type": "code",
      "metadata": {
        "id": "m2NPJyE7VWGp",
        "colab_type": "code",
        "colab": {
          "base_uri": "https://localhost:8080/",
          "height": 52
        },
        "outputId": "27ae9203-8434-4ea6-e363-3d4f1731effa"
      },
      "source": [
        "arr3 = arr[1:3, 1:3] #이상:미만\n",
        "arr3"
      ],
      "execution_count": null,
      "outputs": [
        {
          "output_type": "execute_result",
          "data": {
            "text/plain": [
              "array([[ 5,  6],\n",
              "       [ 9, 10]])"
            ]
          },
          "metadata": {
            "tags": []
          },
          "execution_count": 54
        }
      ]
    },
    {
      "cell_type": "code",
      "metadata": {
        "id": "hriWYErNVvbp",
        "colab_type": "code",
        "colab": {
          "base_uri": "https://localhost:8080/",
          "height": 34
        },
        "outputId": "9b1c7081-cb91-4412-d289-818bfaefa736"
      },
      "source": [
        "arr3[0,0] = 99 #8->99\n",
        "arr3"
      ],
      "execution_count": null,
      "outputs": [
        {
          "output_type": "execute_result",
          "data": {
            "text/plain": [
              "array([[99,  9, 10]])"
            ]
          },
          "metadata": {
            "tags": []
          },
          "execution_count": 53
        }
      ]
    },
    {
      "cell_type": "code",
      "metadata": {
        "id": "f2Mb3lB5bnhd",
        "colab_type": "code",
        "colab": {}
      },
      "source": [
        ""
      ],
      "execution_count": null,
      "outputs": []
    },
    {
      "cell_type": "code",
      "metadata": {
        "id": "wcs3e1lEWW9p",
        "colab_type": "code",
        "colab": {
          "base_uri": "https://localhost:8080/",
          "height": 70
        },
        "outputId": "c1298147-872d-4f74-fa37-6e8d748dbc02"
      },
      "source": [
        "bidx = arr >= 5\n",
        "bidx"
      ],
      "execution_count": null,
      "outputs": [
        {
          "output_type": "execute_result",
          "data": {
            "text/plain": [
              "array([[False, False, False, False],\n",
              "       [False,  True,  True,  True],\n",
              "       [ True,  True,  True,  True]])"
            ]
          },
          "metadata": {
            "tags": []
          },
          "execution_count": 55
        }
      ]
    },
    {
      "cell_type": "code",
      "metadata": {
        "id": "A8Mfnt_SdwzJ",
        "colab_type": "code",
        "colab": {
          "base_uri": "https://localhost:8080/",
          "height": 34
        },
        "outputId": "2384399a-49b2-4dd3-ff26-40553c77fae1"
      },
      "source": [
        "arr[bidx] # 결과값이 True인 항목만 추출, 1차원으로"
      ],
      "execution_count": null,
      "outputs": [
        {
          "output_type": "execute_result",
          "data": {
            "text/plain": [
              "array([ 5,  6,  7,  8,  9, 10, 11])"
            ]
          },
          "metadata": {
            "tags": []
          },
          "execution_count": 56
        }
      ]
    },
    {
      "cell_type": "code",
      "metadata": {
        "id": "PGkSw0f7ed_o",
        "colab_type": "code",
        "colab": {
          "base_uri": "https://localhost:8080/",
          "height": 34
        },
        "outputId": "5259fec4-92b6-4e59-c053-3e5018db1714"
      },
      "source": [
        "arr[arr>=5]"
      ],
      "execution_count": null,
      "outputs": [
        {
          "output_type": "execute_result",
          "data": {
            "text/plain": [
              "array([ 5,  6,  7,  8,  9, 10, 11])"
            ]
          },
          "metadata": {
            "tags": []
          },
          "execution_count": 57
        }
      ]
    },
    {
      "cell_type": "code",
      "metadata": {
        "id": "IvQhibBPfEQs",
        "colab_type": "code",
        "colab": {
          "base_uri": "https://localhost:8080/",
          "height": 52
        },
        "outputId": "fbe4306e-30c3-462d-f698-54a9229b0a92"
      },
      "source": [
        "# 참, 거짓 갯수를 행의 수만큼 넣기\n",
        "arr[ [True, False,True] ]  #참에 해당하는 행만 추출"
      ],
      "execution_count": null,
      "outputs": [
        {
          "output_type": "execute_result",
          "data": {
            "text/plain": [
              "array([[ 0,  1,  2,  3],\n",
              "       [ 8,  9, 10, 11]])"
            ]
          },
          "metadata": {
            "tags": []
          },
          "execution_count": 58
        }
      ]
    },
    {
      "cell_type": "code",
      "metadata": {
        "id": "vXLoWqVLgHjN",
        "colab_type": "code",
        "colab": {
          "base_uri": "https://localhost:8080/",
          "height": 87
        },
        "outputId": "22d7cf16-6020-4d16-8191-e5fb58a2257c"
      },
      "source": [
        "scores=[\n",
        "        #학년,반,번호,수학,영어,과학\n",
        "        [1, 1, 1, 80, 70, 90],\n",
        "        [1, 1, 2, 70, 70, 70],\n",
        "        [2, 1, 1, 90, 80, 60],\n",
        "        [2, 1, 2, 90, 80, 80],\n",
        "]\n",
        "score_np = np.array(scores)\n",
        "score_np"
      ],
      "execution_count": null,
      "outputs": [
        {
          "output_type": "execute_result",
          "data": {
            "text/plain": [
              "array([[ 1,  1,  1, 80, 70, 90],\n",
              "       [ 1,  1,  2, 70, 70, 70],\n",
              "       [ 2,  1,  1, 90, 80, 60],\n",
              "       [ 2,  1,  2, 90, 80, 80]])"
            ]
          },
          "metadata": {
            "tags": []
          },
          "execution_count": 75
        }
      ]
    },
    {
      "cell_type": "code",
      "metadata": {
        "id": "a8979VpchK4h",
        "colab_type": "code",
        "colab": {
          "base_uri": "https://localhost:8080/",
          "height": 34
        },
        "outputId": "8b4babf9-810d-4c0c-b90e-4fbc456abccb"
      },
      "source": [
        "grades = score_np[:, 0] #학년 열\n",
        "grades"
      ],
      "execution_count": null,
      "outputs": [
        {
          "output_type": "execute_result",
          "data": {
            "text/plain": [
              "array([1, 1, 2, 2])"
            ]
          },
          "metadata": {
            "tags": []
          },
          "execution_count": 61
        }
      ]
    },
    {
      "cell_type": "code",
      "metadata": {
        "id": "rHv9YOAohtsA",
        "colab_type": "code",
        "colab": {
          "base_uri": "https://localhost:8080/",
          "height": 34
        },
        "outputId": "1ab392b6-12d5-477d-e5ab-7f4973ed1d04"
      },
      "source": [
        "grades == 1 #1학년"
      ],
      "execution_count": null,
      "outputs": [
        {
          "output_type": "execute_result",
          "data": {
            "text/plain": [
              "array([ True,  True, False, False])"
            ]
          },
          "metadata": {
            "tags": []
          },
          "execution_count": 63
        }
      ]
    },
    {
      "cell_type": "code",
      "metadata": {
        "id": "uRCPgLO1h3f_",
        "colab_type": "code",
        "colab": {
          "base_uri": "https://localhost:8080/",
          "height": 52
        },
        "outputId": "1a4fb5d7-7b7c-4588-ad22-ca8d60bf3875"
      },
      "source": [
        "score_np[ score_np[:, 0]==1] #1학년만"
      ],
      "execution_count": null,
      "outputs": [
        {
          "output_type": "execute_result",
          "data": {
            "text/plain": [
              "array([[ 1,  1,  1, 80, 70, 90],\n",
              "       [ 1,  1,  2, 70, 70, 70]])"
            ]
          },
          "metadata": {
            "tags": []
          },
          "execution_count": 64
        }
      ]
    },
    {
      "cell_type": "code",
      "metadata": {
        "id": "M7MdNo4WiUns",
        "colab_type": "code",
        "colab": {
          "base_uri": "https://localhost:8080/",
          "height": 34
        },
        "outputId": "692a5745-b8e6-482c-d7b6-ec62f9b31ed6"
      },
      "source": [
        "score_np[0] #행\n",
        "score_np[0:2] #슬라이싱 행(1학년만 추출)\n",
        "score_np[0, ] #행추출, 열 생략 가능\n",
        "# score_np[ ,0] #열추출, 행생략 불가\n",
        "score_np[ : , [0,2]] #열추출, 행 생략 불가능\n",
        "score_np[:, 0]==1 #1학년만 추출\n",
        "score_np[ score_np[:,0]==1] #1학년 행 추출"
      ],
      "execution_count": null,
      "outputs": [
        {
          "output_type": "execute_result",
          "data": {
            "text/plain": [
              "array([1, 2, 1, 2])"
            ]
          },
          "metadata": {
            "tags": []
          },
          "execution_count": 66
        }
      ]
    },
    {
      "cell_type": "code",
      "metadata": {
        "id": "qZWUTc3Xl2XN",
        "colab_type": "code",
        "colab": {
          "base_uri": "https://localhost:8080/",
          "height": 87
        },
        "outputId": "e87e251e-895b-443f-b570-3235f6726eb1"
      },
      "source": [
        "score_np"
      ],
      "execution_count": null,
      "outputs": [
        {
          "output_type": "execute_result",
          "data": {
            "text/plain": [
              "array([[ 1,  1,  1, 80, 70, 90],\n",
              "       [ 1,  1,  2, 70, 70, 70],\n",
              "       [ 2,  1,  1, 90, 80, 70],\n",
              "       [ 2,  1,  2, 90, 80, 80]])"
            ]
          },
          "metadata": {
            "tags": []
          },
          "execution_count": 67
        }
      ]
    },
    {
      "cell_type": "code",
      "metadata": {
        "id": "QeSEWAwBl6Kn",
        "colab_type": "code",
        "colab": {
          "base_uri": "https://localhost:8080/",
          "height": 34
        },
        "outputId": "82bc5f89-d2f3-42c4-defd-df188285e057"
      },
      "source": [
        "bidx = score_np[:, 0]==1\n",
        "np.where(bidx, \"처리대상\", \"미처리\")"
      ],
      "execution_count": null,
      "outputs": [
        {
          "output_type": "execute_result",
          "data": {
            "text/plain": [
              "array(['처리대상', '처리대상', '미처리', '미처리'], dtype='<U4')"
            ]
          },
          "metadata": {
            "tags": []
          },
          "execution_count": 69
        }
      ]
    },
    {
      "cell_type": "code",
      "metadata": {
        "id": "Gji8ozJRmjgu",
        "colab_type": "code",
        "colab": {
          "base_uri": "https://localhost:8080/",
          "height": 34
        },
        "outputId": "3850fc29-1c5e-4d9c-8d80-1cabd66ddac4"
      },
      "source": [
        "np.where(score_np[:,5]>=90,\"A\",\n",
        "         np.where(score_np[:,5]>=80, \"B\",\n",
        "                  np.where(score_np[:,5]>=70, \"C\",\"D\")))"
      ],
      "execution_count": null,
      "outputs": [
        {
          "output_type": "execute_result",
          "data": {
            "text/plain": [
              "array(['A', 'C', 'D', 'B'], dtype='<U1')"
            ]
          },
          "metadata": {
            "tags": []
          },
          "execution_count": 76
        }
      ]
    },
    {
      "cell_type": "code",
      "metadata": {
        "id": "mNUt1WN5p-BQ",
        "colab_type": "code",
        "colab": {
          "base_uri": "https://localhost:8080/",
          "height": 87
        },
        "outputId": "a174536d-7663-41df-88d1-edeffc9a31d7"
      },
      "source": [
        "score_data = score_np[:, 3:]\n",
        "score_data"
      ],
      "execution_count": null,
      "outputs": [
        {
          "output_type": "execute_result",
          "data": {
            "text/plain": [
              "array([[80, 70, 90],\n",
              "       [70, 70, 70],\n",
              "       [90, 80, 60],\n",
              "       [90, 80, 80]])"
            ]
          },
          "metadata": {
            "tags": []
          },
          "execution_count": 77
        }
      ]
    },
    {
      "cell_type": "code",
      "metadata": {
        "id": "8TYPqvlvqE3T",
        "colab_type": "code",
        "colab": {
          "base_uri": "https://localhost:8080/",
          "height": 34
        },
        "outputId": "26868504-9011-4088-ad05-6341ec186f98"
      },
      "source": [
        "np.sum(score_data, axis=0) #행방향 처리\n",
        "np.sum(score_data, axis=1) #열방향 처리\n",
        "np.mean(score_data)\n",
        "np.mean(score_data, axis=0) #행단위 처리 -> 열별합 \n",
        "np.mean(score_data, axis=1) #열단위 처리-> 행별\n",
        "np.min(score_data)\n",
        "np.min(score_data, axis=0)\n",
        "np.min(score_data, axis=1)\n",
        "np.argmin(score_data, axis=0)\n",
        "np.argmin(score_data, axis=1)"
      ],
      "execution_count": null,
      "outputs": [
        {
          "output_type": "execute_result",
          "data": {
            "text/plain": [
              "array([1, 0, 2, 1])"
            ]
          },
          "metadata": {
            "tags": []
          },
          "execution_count": 81
        }
      ]
    },
    {
      "cell_type": "code",
      "metadata": {
        "id": "_aNeCQy5Gx1-",
        "colab_type": "code",
        "colab": {
          "base_uri": "https://localhost:8080/",
          "height": 70
        },
        "outputId": "0d332092-0f51-4a7e-c978-603a4f01327e"
      },
      "source": [
        "arr6= np.arange(1,46)\n",
        "arr6"
      ],
      "execution_count": null,
      "outputs": [
        {
          "output_type": "execute_result",
          "data": {
            "text/plain": [
              "array([ 1,  2,  3,  4,  5,  6,  7,  8,  9, 10, 11, 12, 13, 14, 15, 16, 17,\n",
              "       18, 19, 20, 21, 22, 23, 24, 25, 26, 27, 28, 29, 30, 31, 32, 33, 34,\n",
              "       35, 36, 37, 38, 39, 40, 41, 42, 43, 44, 45])"
            ]
          },
          "metadata": {
            "tags": []
          },
          "execution_count": 82
        }
      ]
    },
    {
      "cell_type": "code",
      "metadata": {
        "id": "42hT1IyJG4B1",
        "colab_type": "code",
        "colab": {
          "base_uri": "https://localhost:8080/",
          "height": 70
        },
        "outputId": "38937a90-b0c9-41de-86b9-87f8b8bdd56f"
      },
      "source": [
        "np.random.shuffle(arr6) \n",
        "arr6"
      ],
      "execution_count": null,
      "outputs": [
        {
          "output_type": "execute_result",
          "data": {
            "text/plain": [
              "array([10, 39, 36, 20, 45, 23, 33, 44, 28, 34, 14,  9, 18, 13,  3,  1, 37,\n",
              "        7, 41,  5, 11, 43, 35, 31, 12, 21,  2, 27, 15, 38, 26, 19,  8,  6,\n",
              "        4, 25, 29, 16, 24, 42, 22, 30, 40, 17, 32])"
            ]
          },
          "metadata": {
            "tags": []
          },
          "execution_count": 84
        }
      ]
    },
    {
      "cell_type": "code",
      "metadata": {
        "id": "zmckUTj5IEJU",
        "colab_type": "code",
        "colab": {
          "base_uri": "https://localhost:8080/",
          "height": 34
        },
        "outputId": "2ee29b76-c6c2-4088-932e-9a104a6b3298"
      },
      "source": [
        "np.random.seed(100) #Pesudo Random\n",
        "np.random.randint(1,46, 6) #6개\n",
        "# np.random.randint(1,46,size=(2,3)) #2행3열"
      ],
      "execution_count": null,
      "outputs": [
        {
          "output_type": "execute_result",
          "data": {
            "text/plain": [
              "array([ 9, 25,  4, 40, 24, 16])"
            ]
          },
          "metadata": {
            "tags": []
          },
          "execution_count": 88
        }
      ]
    },
    {
      "cell_type": "code",
      "metadata": {
        "id": "WOIU0qgxNOVA",
        "colab_type": "code",
        "colab": {
          "base_uri": "https://localhost:8080/",
          "height": 87
        },
        "outputId": "06110729-d0eb-4013-882c-eb3f17229b7b"
      },
      "source": [
        "import pandas as pd\n",
        "s1 = pd.Series([70,80,90], index=['eng','math','sci'])\n",
        "s1"
      ],
      "execution_count": null,
      "outputs": [
        {
          "output_type": "execute_result",
          "data": {
            "text/plain": [
              "eng     70\n",
              "math    80\n",
              "sci     90\n",
              "dtype: int64"
            ]
          },
          "metadata": {
            "tags": []
          },
          "execution_count": 2
        }
      ]
    },
    {
      "cell_type": "code",
      "metadata": {
        "id": "77xfJ3hiInRz",
        "colab_type": "code",
        "colab": {
          "base_uri": "https://localhost:8080/",
          "height": 70
        },
        "outputId": "6e5b3fbb-62f5-4059-9ce7-e118c1d84296"
      },
      "source": [
        "s1[ ['math', 'eng']]\n",
        "s1['math':] #'math'부터 끝까지 추출\n",
        "s1[:'math'] #처음부터 'math'까지 추출"
      ],
      "execution_count": null,
      "outputs": [
        {
          "output_type": "execute_result",
          "data": {
            "text/plain": [
              "eng     70\n",
              "math    80\n",
              "dtype: int64"
            ]
          },
          "metadata": {
            "tags": []
          },
          "execution_count": 3
        }
      ]
    },
    {
      "cell_type": "code",
      "metadata": {
        "id": "gDE2zUA2b0c_",
        "colab_type": "code",
        "colab": {
          "base_uri": "https://localhost:8080/",
          "height": 105
        },
        "outputId": "a8f0b8da-622b-4a65-e323-8f7d191a0d02"
      },
      "source": [
        "o1 = pd.Series([4,5,-3,6], index=list(\"dacd\"))\n",
        "o1"
      ],
      "execution_count": null,
      "outputs": [
        {
          "output_type": "execute_result",
          "data": {
            "text/plain": [
              "d    4\n",
              "a    5\n",
              "c   -3\n",
              "d    6\n",
              "dtype: int64"
            ]
          },
          "metadata": {
            "tags": []
          },
          "execution_count": 4
        }
      ]
    },
    {
      "cell_type": "code",
      "metadata": {
        "id": "czCL5F4lb9rH",
        "colab_type": "code",
        "colab": {
          "base_uri": "https://localhost:8080/",
          "height": 34
        },
        "outputId": "d2de027c-3a14-4d53-dba0-7526c32b8a96"
      },
      "source": [
        "o1.index"
      ],
      "execution_count": null,
      "outputs": [
        {
          "output_type": "execute_result",
          "data": {
            "text/plain": [
              "Index(['d', 'a', 'c', 'd'], dtype='object')"
            ]
          },
          "metadata": {
            "tags": []
          },
          "execution_count": 5
        }
      ]
    },
    {
      "cell_type": "code",
      "metadata": {
        "id": "Zh5aam2pb_wj",
        "colab_type": "code",
        "colab": {
          "base_uri": "https://localhost:8080/",
          "height": 34
        },
        "outputId": "906e2ba8-ed23-4f01-c902-47d56f13db17"
      },
      "source": [
        "o1.values"
      ],
      "execution_count": null,
      "outputs": [
        {
          "output_type": "execute_result",
          "data": {
            "text/plain": [
              "array([ 4,  5, -3,  6])"
            ]
          },
          "metadata": {
            "tags": []
          },
          "execution_count": 6
        }
      ]
    },
    {
      "cell_type": "code",
      "metadata": {
        "id": "74e656uecC1j",
        "colab_type": "code",
        "colab": {
          "base_uri": "https://localhost:8080/",
          "height": 87
        },
        "outputId": "d08fd540-1f23-404b-e063-c5376a40ca53"
      },
      "source": [
        "o1[ o1>0 ]"
      ],
      "execution_count": null,
      "outputs": [
        {
          "output_type": "execute_result",
          "data": {
            "text/plain": [
              "d    4\n",
              "a    5\n",
              "d    6\n",
              "dtype: int64"
            ]
          },
          "metadata": {
            "tags": []
          },
          "execution_count": 7
        }
      ]
    }
  ]
}